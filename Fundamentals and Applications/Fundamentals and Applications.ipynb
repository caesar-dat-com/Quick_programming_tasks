{
 "cells": [
  {
   "cell_type": "code",
   "execution_count": 11,
   "metadata": {},
   "outputs": [],
   "source": [
    "import random\n",
    "\n",
    "def leer_numero():\n",
    "    while True:\n",
    "        try:\n",
    "            numero_ingresado = int(input(\"Ingrese un número entre 1 y 9: \"))\n",
    "            if 1 <= numero_ingresado <= 9:\n",
    "                return numero_ingresado\n",
    "            else:\n",
    "                print(\"El número no es válido. Debe estar entre 1 y 9.\")\n",
    "        except ValueError:\n",
    "            print(\"El número no es válido. Asegúrese de ingresar un número entero.\")\n",
    "\n",
    "def juego_adivinanza():\n",
    "    numero_aleatorio = random.randint(1, 9)\n",
    "    intentos = 3\n",
    "    \n",
    "    print(\"Bienvenido al juego de adivinanza. Tienes 3 intentos para adivinar un número entre 1 y 9.\")\n",
    "    \n",
    "    for intento in range(intentos):\n",
    "        numero_usuario = leer_numero()\n",
    "        if numero_usuario == numero_aleatorio:\n",
    "            print(f\"¡Felicidades! Has adivinado el número {numero_aleatorio} correctamente.\")\n",
    "            return\n",
    "        else:\n",
    "            print(f\"Incorrecto. Te quedan {intentos - intento - 1} intentos.\")\n",
    "    \n",
    "    print(f\"Lo siento, has perdido. El número era {numero_aleatorio}.\")"
   ]
  }
 ],
 "metadata": {
  "kernelspec": {
   "display_name": "Python 3",
   "language": "python",
   "name": "python3"
  },
  "language_info": {
   "codemirror_mode": {
    "name": "ipython",
    "version": 3
   },
   "file_extension": ".py",
   "mimetype": "text/x-python",
   "name": "python",
   "nbconvert_exporter": "python",
   "pygments_lexer": "ipython3",
   "version": "3.11.8"
  }
 },
 "nbformat": 4,
 "nbformat_minor": 2
}

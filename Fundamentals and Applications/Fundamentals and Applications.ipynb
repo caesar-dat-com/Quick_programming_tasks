{
 "cells": [
  {
   "cell_type": "markdown",
   "metadata": {},
   "source": [
    "# Juego de Adivinanza en Python\n",
    "\n",
    "Este proyecto es un juego de adivinanza interactivo que desafía a los jugadores a adivinar un número aleatorio entre 1 y 9 en tres intentos. Se compone principalmente de dos funciones: una para leer y validar la entrada del usuario y otra para controlar la lógica del juego, incluyendo la generación del número aleatorio, el seguimiento de los intentos del usuario, y proporcionar retroalimentación sobre si el usuario ha adivinado correctamente o no.\n",
    "\n",
    "## Cómo Jugar\n",
    "\n",
    "- Al inicio del juego, se genera un número aleatorio entre 1 y 9.\n",
    "- El jugador tiene tres intentos para adivinar el número correcto.\n",
    "- En cada intento, el juego solicita al jugador que ingrese un número.\n",
    "- Si el jugador adivina correctamente, el juego termina con una felicitación.\n",
    "- Si el jugador no adivina correctamente después de tres intentos, el juego revela el número y termina.\n",
    "\n",
    "## Cómo Ejecutar el Juego\n",
    "\n",
    "Para jugar, necesitas tener Python instalado en tu sistema. Descarga o clona el repositorio del proyecto y ejecuta el script desde la línea de comandos:\n",
    "\n"
   ]
  },
  {
   "cell_type": "markdown",
   "metadata": {},
   "source": [
    "INICIO\n",
    "\n",
    "Importar la biblioteca random\n",
    "\n",
    "DEFINIR función leer_numero()\n",
    "    MIENTRAS VERDADERO\n",
    "        INTENTAR\n",
    "            numero_ingresado = Convertir a entero el valor ingresado por el usuario(\"Ingrese un número entre 1 y 9: \")\n",
    "            SI 1 <= numero_ingresado <= 9 ENTONCES\n",
    "                RETORNAR numero_ingresado\n",
    "            SINO\n",
    "                Imprimir(\"El número no es válido. Debe estar entre 1 y 9.\")\n",
    "        EXCEPCIÓN ValueError\n",
    "            Imprimir(\"El número no es válido. Asegúrese de ingresar un número entero.\")\n",
    "\n",
    "DEFINIR función juego_adivinanza()\n",
    "    numero_aleatorio = Generar un número aleatorio entre 1 y 9\n",
    "    intentos = 3\n",
    "    \n",
    "    Imprimir(\"Bienvenido al juego de adivinanza. Tienes 3 intentos para adivinar un número entre 1 y 9.\")\n",
    "    \n",
    "    PARA intento EN rango(intentos)\n",
    "        numero_usuario = leer_numero()\n",
    "        SI numero_usuario == numero_aleatorio ENTONCES\n",
    "            Imprimir(\"¡Felicidades! Has adivinado el número correctamente.\")\n",
    "            RETORNAR\n",
    "        SINO\n",
    "            Imprimir(\"Incorrecto. Te quedan {intentos - intento - 1} intentos.\")\n",
    "    \n",
    "    Imprimir(\"Lo siento, has perdido. El número era {numero_aleatorio}.\")\n",
    "\n",
    "EJECUTAR juego_adivinanza()\n",
    "\n",
    "FIN"
   ]
  },
  {
   "cell_type": "code",
   "execution_count": 1,
   "metadata": {},
   "outputs": [
    {
     "name": "stdout",
     "output_type": "stream",
     "text": [
      "Bienvenido al juego de adivinanza. Tienes 3 intentos para adivinar un número entre 1 y 9.\n",
      "Incorrecto. Te quedan 2 intentos.\n",
      "¡Felicidades! Has adivinado el número 5 correctamente.\n"
     ]
    }
   ],
   "source": [
    "import random\n",
    "\n",
    "def leer_numero():\n",
    "    while True:\n",
    "        try:\n",
    "            numero_ingresado = int(input(\"Ingrese un número entre 1 y 9: \"))\n",
    "            if 1 <= numero_ingresado <= 9:\n",
    "                return numero_ingresado\n",
    "            else:\n",
    "                print(\"El número no es válido. Debe estar entre 1 y 9.\")\n",
    "        except ValueError:\n",
    "            print(\"El número no es válido. Asegúrese de ingresar un número entero.\")\n",
    "\n",
    "def juego_adivinanza():\n",
    "    numero_aleatorio = random.randint(1, 9)\n",
    "    intentos = 3\n",
    "    \n",
    "    print(\"Bienvenido al juego de adivinanza. Tienes 3 intentos para adivinar un número entre 1 y 9.\")\n",
    "    \n",
    "    for intento in range(intentos):\n",
    "        numero_usuario = leer_numero()\n",
    "        if numero_usuario == numero_aleatorio:\n",
    "            print(f\"¡Felicidades! Has adivinado el número {numero_aleatorio} correctamente.\")\n",
    "            return\n",
    "        else:\n",
    "            print(f\"Incorrecto. Te quedan {intentos - intento - 1} intentos.\")\n",
    "    \n",
    "    print(f\"Lo siento, has perdido. El número era {numero_aleatorio}.\")\n",
    "\n",
    "juego_adivinanza()\n"
   ]
  },
  {
   "cell_type": "markdown",
   "metadata": {},
   "source": [
    "# Cálculo Interactivo del Máximo Común Divisor (MCD) en Python\n",
    "\n",
    "Este script interactivo en Python guía al usuario para ingresar dos números enteros dentro del rango de 1 a 100 y calcula el Máximo Común Divisor (MCD) de ambos. A través de validaciones asegura entradas correctas, y emplea un enfoque eficiente para encontrar el MCD, iniciando desde el menor de los números e iterando hacia abajo hasta encontrar el divisor común más grande, mostrando el resultado finalmente al usuario.\n",
    "\n",
    "## Cómo hacer un calculo mcd\n",
    "- Identificar los números: Empieza con dos números enteros para los cuales deseas encontrar el MCD. Por ejemplo, 48 y 180.\n",
    "\n",
    "- Descomponer en factores primos: Descompón cada número en sus factores primos. Esto significa escribir cada número como un producto de números primos.\n",
    "\n",
    "- Para 48: Los factores primos son 2 x 2 x 2 x 2 x 3 (o 2^4 x 3).\n",
    "- Para 180: Los factores primos son 2 x 2 x 3 x 3 x 5 (o 2^2 x 3^2 x 5).\n",
    "- Identificar los factores comunes: Busca los factores primos que son comunes a ambos números, seleccionando el menor exponente presente en ambos desgloses.\n",
    "\n",
    "- Los factores comunes para 48 y 180 son 2^2 x 3 (porque ambos tienen al menos dos 2s y un 3 en su descomposición, pero 48 tiene solo un 3 y 180 tiene solo dos 2s).\n",
    "- Multiplicar los factores comunes: Multiplica los factores comunes para obtener el MCD.\n",
    "\n",
    "- Multiplicando los factores comunes, 2^2 x 3, obtenemos 4 x 3 = 12.\n",
    "- Entonces, el MCD de 48 y 180 es 12.\n"
   ]
  },
  {
   "cell_type": "markdown",
   "metadata": {},
   "source": [
    "Función solicitar_numero(mensaje)\n",
    "    Mientras Verdadero\n",
    "        Intentar\n",
    "            numero = convertir a entero(entrada(mensaje))\n",
    "            Si 1 <= numero <= 100 Entonces\n",
    "                Devolver numero\n",
    "            Sino\n",
    "                Imprimir \"El número debe estar entre 1 y 100. Intenta de nuevo.\"\n",
    "        Capturar ErrorDeValor\n",
    "            Imprimir \"Entrada inválida. Por favor, ingresa un número.\"\n",
    "\n",
    "Función calcular_mcd(a, b)\n",
    "    minimo = mínimo(a, b)\n",
    "    Para i = minimo hasta 1 decrementando en 1\n",
    "        Si a mod i == 0 y b mod i == 0 Entonces\n",
    "            Devolver i\n",
    "\n",
    "Inicio\n",
    "    numero1 = solicitar_numero(\"Ingresa el primer número (entre 1 y 100): \")\n",
    "    numero2 = solicitar_numero(\"Ingresa el segundo número (entre 1 y 100): \")\n",
    "\n",
    "    mcd = calcular_mcd(numero1, numero2)\n",
    "\n",
    "    Imprimir \"El MCD de \" + numero1 + \" y \" + numero2 + \" es: \" + mcd\n",
    "Fin\n"
   ]
  },
  {
   "cell_type": "code",
   "execution_count": 2,
   "metadata": {},
   "outputs": [
    {
     "name": "stdout",
     "output_type": "stream",
     "text": [
      "El MCD de 1 y 75 es: 1\n"
     ]
    }
   ],
   "source": [
    "def solicitar_numero(mensaje):\n",
    "    while True:\n",
    "        try:\n",
    "            numero = int(input(mensaje))\n",
    "            if 1 <= numero <= 100:\n",
    "                return numero\n",
    "            else:\n",
    "                print(\"El número debe estar entre 1 y 100. Intenta de nuevo.\")\n",
    "        except ValueError:\n",
    "            print(\"Entrada inválida. Por favor, ingresa un número.\")\n",
    "\n",
    "def calcular_mcd(a, b):\n",
    "    # Iniciamos desde el menor de los dos números\n",
    "    minimo = min(a, b)\n",
    "    # Buscamos el MCD de mayor a menor\n",
    "    for i in range(minimo, 0, -1):\n",
    "        if a % i == 0 and b % i == 0:\n",
    "            return i\n",
    "\n",
    "# Solicitamos al usuario que ingrese dos números\n",
    "numero1 = solicitar_numero(\"Ingresa el primer número (entre 1 y 100): \")\n",
    "numero2 = solicitar_numero(\"Ingresa el segundo número (entre 1 y 100): \")\n",
    "\n",
    "# Calculamos el MCD\n",
    "mcd = calcular_mcd(numero1, numero2)\n",
    "\n",
    "# Imprimimos el resultado\n",
    "print(f\"El MCD de {numero1} y {numero2} es: {mcd}\")\n"
   ]
  }
 ],
 "metadata": {
  "kernelspec": {
   "display_name": "Python 3",
   "language": "python",
   "name": "python3"
  },
  "language_info": {
   "codemirror_mode": {
    "name": "ipython",
    "version": 3
   },
   "file_extension": ".py",
   "mimetype": "text/x-python",
   "name": "python",
   "nbconvert_exporter": "python",
   "pygments_lexer": "ipython3",
   "version": "3.11.8"
  }
 },
 "nbformat": 4,
 "nbformat_minor": 2
}

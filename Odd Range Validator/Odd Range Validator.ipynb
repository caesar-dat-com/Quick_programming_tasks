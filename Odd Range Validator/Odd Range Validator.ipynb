{
 "cells": [
  {
   "cell_type": "markdown",
   "metadata": {},
   "source": [
    "El programa ejecuta la funcion get_odd_numbers_between() pide al usuario dos números, asegurándose de que el primero sea menor que el segundo. Luego, crea y muestra una lista de los números impares en el rango entre ambos. La ejecución de la función se inicia al final del código."
   ]
  },
  {
   "cell_type": "markdown",
   "metadata": {},
   "source": [
    "Inicio de la función obtener_impares_entre_numeros\n",
    "\n",
    "    Repetir indefinidamente\n",
    "        Pedir al usuario que ingrese el primer número (n1)\n",
    "        Pedir al usuario que ingrese el segundo número (n2)\n",
    "\n",
    "        Si n1 es menor que n2 entonces\n",
    "            Salir del bucle\n",
    "        Si no\n",
    "            Mostrar mensaje \"El primer número debe ser menor que el segundo. Por favor, intente de nuevo.\"\n",
    "\n",
    "    Fin del bucle\n",
    "\n",
    "    Inicializar una lista vacía para números impares\n",
    "    Para cada número n en el rango de n1 a n2 (incluyendo n2)\n",
    "        Si n es impar entonces\n",
    "            Agregar n a la lista de números impares\n",
    "\n",
    "    Mostrar \"Números ingresados: n1 = [valor de n1], n2 = [valor de n2]\"\n",
    "    Mostrar \"Lista de números impares entre n1 y n2: [lista de números impares]\"\n",
    "\n",
    "Fin de la función obtener_impares_entre_numeros\n",
    "\n",
    "Llamar a la función obtener_impares_entre_numeros para ejecutar el programa\n"
   ]
  },
  {
   "cell_type": "code",
   "execution_count": 3,
   "metadata": {},
   "outputs": [
    {
     "name": "stdout",
     "output_type": "stream",
     "text": [
      "The first number must be smaller than the second. Please, try again.\n",
      "The first number must be smaller than the second. Please, try again.\n",
      "Entered numbers: n1 = 2 , n2 = 9\n",
      "List of odd numbers between n1 and n2: [3, 5, 7, 9]\n"
     ]
    }
   ],
   "source": [
    "def get_odd_numbers_between():\n",
    "    while True:\n",
    "        # Ask the user to enter the numbers\n",
    "        n1 = int(input(\"Enter the first number (n1): \"))\n",
    "        n2 = int(input(\"Enter the second number (n2): \"))\n",
    "\n",
    "        # Validate that n1 is less than n2\n",
    "        if n1 < n2:\n",
    "            break\n",
    "        else:\n",
    "            print(\"The first number must be smaller than the second. Please, try again.\")\n",
    "\n",
    "    # Generate the list of odd numbers between n1 and n2\n",
    "    odd_numbers = [n for n in range(n1, n2 + 1) if n % 2 != 0]\n",
    "\n",
    "    # Display the entered numbers and the list of odd numbers\n",
    "    print(\"Entered numbers: n1 =\", n1, \", n2 =\", n2)\n",
    "    print(\"List of odd numbers between n1 and n2:\", odd_numbers)\n",
    "\n",
    "# Call the function to run the program\n",
    "get_odd_numbers_between()\n"
   ]
  }
 ],
 "metadata": {
  "kernelspec": {
   "display_name": "Python 3",
   "language": "python",
   "name": "python3"
  },
  "language_info": {
   "codemirror_mode": {
    "name": "ipython",
    "version": 3
   },
   "file_extension": ".py",
   "mimetype": "text/x-python",
   "name": "python",
   "nbconvert_exporter": "python",
   "pygments_lexer": "ipython3",
   "version": "3.11.8"
  }
 },
 "nbformat": 4,
 "nbformat_minor": 2
}

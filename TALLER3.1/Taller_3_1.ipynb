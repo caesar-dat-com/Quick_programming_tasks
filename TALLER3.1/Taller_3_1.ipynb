{
  "cells": [
    {
      "cell_type": "markdown",
      "metadata": {
        "id": "841xHKQFtkz-"
      },
      "source": [
        "# **Taller 3-1**"
      ]
    },
    {
      "cell_type": "markdown",
      "metadata": {
        "id": "dZTCdufutoyl"
      },
      "source": [
        "El archivo datalogger.csv contiene un conjunto de datos climáticos con la siguiente información:\n",
        "\n",
        "- SN: número de la muestra.\n",
        "- DATE: fecha y hora de la muestra.\n",
        "- oC: temperatura en grados centígrados.\n",
        "- %RH: porcentaje de humedad relativa.\n",
        "- DP: punto de rocío (Dew Point).\n",
        "\n",
        "Utilizando este conjunto de datos, realice los siguientes ejercicios:"
      ]
    },
    {
      "cell_type": "markdown",
      "metadata": {
        "id": "30AqwLoKwdKU"
      },
      "source": [
        "## Ejercicio 1\n",
        "\n",
        "Indique la cantidad de observaciones que contine el conjunto de datos."
      ]
    },
    {
      "cell_type": "code",
      "execution_count": 1,
      "metadata": {
        "id": "a9ZpvC-zfeSB"
      },
      "outputs": [
        {
          "ename": "ModuleNotFoundError",
          "evalue": "No module named 'seaborn'",
          "output_type": "error",
          "traceback": [
            "\u001b[1;31m---------------------------------------------------------------------------\u001b[0m",
            "\u001b[1;31mModuleNotFoundError\u001b[0m                       Traceback (most recent call last)",
            "Cell \u001b[1;32mIn[1], line 3\u001b[0m\n\u001b[0;32m      1\u001b[0m \u001b[38;5;28;01mimport\u001b[39;00m \u001b[38;5;21;01mnumpy\u001b[39;00m \u001b[38;5;28;01mas\u001b[39;00m \u001b[38;5;21;01mnp\u001b[39;00m\n\u001b[0;32m      2\u001b[0m \u001b[38;5;28;01mimport\u001b[39;00m \u001b[38;5;21;01mpandas\u001b[39;00m \u001b[38;5;28;01mas\u001b[39;00m \u001b[38;5;21;01mpd\u001b[39;00m\n\u001b[1;32m----> 3\u001b[0m \u001b[38;5;28;01mimport\u001b[39;00m \u001b[38;5;21;01mseaborn\u001b[39;00m \u001b[38;5;28;01mas\u001b[39;00m \u001b[38;5;21;01msns\u001b[39;00m\n\u001b[0;32m      4\u001b[0m \u001b[38;5;28;01mimport\u001b[39;00m \u001b[38;5;21;01mmatplotlib\u001b[39;00m\u001b[38;5;21;01m.\u001b[39;00m\u001b[38;5;21;01mpyplot\u001b[39;00m \u001b[38;5;28;01mas\u001b[39;00m \u001b[38;5;21;01mplt\u001b[39;00m\n",
            "\u001b[1;31mModuleNotFoundError\u001b[0m: No module named 'seaborn'"
          ]
        }
      ],
      "source": [
        "import numpy as np\n",
        "import pandas as pd\n",
        "import seaborn as sns\n",
        "import matplotlib.pyplot as plt"
      ]
    },
    {
      "cell_type": "code",
      "execution_count": null,
      "metadata": {
        "colab": {
          "base_uri": "https://localhost:8080/"
        },
        "id": "h72CFkXEfb_K",
        "outputId": "f5968c18-c01e-4a97-bd76-8fc10ae6590c"
      },
      "outputs": [
        {
          "name": "stdout",
          "output_type": "stream",
          "text": [
            "Mounted at /gdrive\n"
          ]
        }
      ],
      "source": [
        "from google.colab import drive\n",
        "drive.mount('/gdrive')"
      ]
    },
    {
      "cell_type": "code",
      "execution_count": null,
      "metadata": {
        "id": "TYW8LlsZfaLF"
      },
      "outputs": [],
      "source": [
        "df = pd.read_csv('/gdrive/MyDrive/Programming/Colab/Datasets/datalogger2.csv', decimal=\",\")"
      ]
    },
    {
      "cell_type": "code",
      "execution_count": null,
      "metadata": {
        "colab": {
          "base_uri": "https://localhost:8080/"
        },
        "id": "hu8umVpMfqP0",
        "outputId": "226005c1-7073-43ee-a5d3-0d19ee84bf82"
      },
      "outputs": [
        {
          "name": "stdout",
          "output_type": "stream",
          "text": [
            "<class 'pandas.core.frame.DataFrame'>\n",
            "RangeIndex: 37655 entries, 0 to 37654\n",
            "Data columns (total 6 columns):\n",
            " #   Column  Non-Null Count  Dtype  \n",
            "---  ------  --------------  -----  \n",
            " 0   SN      37655 non-null  int64  \n",
            " 1   DATE    37655 non-null  object \n",
            " 2   TIME    37655 non-null  object \n",
            " 3   \toC     37655 non-null  float64\n",
            " 4   \t%RH    37655 non-null  float64\n",
            " 5   \tDP     37655 non-null  float64\n",
            "dtypes: float64(3), int64(1), object(2)\n",
            "memory usage: 1.7+ MB\n"
          ]
        }
      ],
      "source": [
        "df.info()"
      ]
    },
    {
      "cell_type": "code",
      "execution_count": null,
      "metadata": {
        "colab": {
          "base_uri": "https://localhost:8080/",
          "height": 206
        },
        "id": "LZ8yjFGBft8i",
        "outputId": "d69a8cbd-81ba-44d2-8382-92e13d094fe2"
      },
      "outputs": [
        {
          "data": {
            "application/vnd.google.colaboratory.intrinsic+json": {
              "summary": "{\n  \"name\": \"df\",\n  \"rows\": 37655,\n  \"fields\": [\n    {\n      \"column\": \"SN\",\n      \"properties\": {\n        \"dtype\": \"number\",\n        \"std\": 10870,\n        \"min\": 1,\n        \"max\": 37655,\n        \"num_unique_values\": 37655,\n        \"samples\": [\n          32279,\n          16112,\n          7326\n        ],\n        \"semantic_type\": \"\",\n        \"description\": \"\"\n      }\n    },\n    {\n      \"column\": \"DATE\",\n      \"properties\": {\n        \"dtype\": \"object\",\n        \"num_unique_values\": 132,\n        \"samples\": [\n          \"14/2/2020\",\n          \"12/3/2020\",\n          \"8/1/2020\"\n        ],\n        \"semantic_type\": \"\",\n        \"description\": \"\"\n      }\n    },\n    {\n      \"column\": \"TIME\",\n      \"properties\": {\n        \"dtype\": \"object\",\n        \"num_unique_values\": 37654,\n        \"samples\": [\n          \"20:33:22\",\n          \"5:59:45\",\n          \"6:32:43\"\n        ],\n        \"semantic_type\": \"\",\n        \"description\": \"\"\n      }\n    },\n    {\n      \"column\": \"\\toC\",\n      \"properties\": {\n        \"dtype\": \"number\",\n        \"std\": 3.6848124541105003,\n        \"min\": 6.9,\n        \"max\": 32.8,\n        \"num_unique_values\": 260,\n        \"samples\": [\n          23.4,\n          32.1,\n          10.5\n        ],\n        \"semantic_type\": \"\",\n        \"description\": \"\"\n      }\n    },\n    {\n      \"column\": \"\\t%RH\",\n      \"properties\": {\n        \"dtype\": \"number\",\n        \"std\": 8.49802615336381,\n        \"min\": 38.6,\n        \"max\": 99.9,\n        \"num_unique_values\": 482,\n        \"samples\": [\n          53.9,\n          48.3,\n          92.1\n        ],\n        \"semantic_type\": \"\",\n        \"description\": \"\"\n      }\n    },\n    {\n      \"column\": \"\\tDP\",\n      \"properties\": {\n        \"dtype\": \"number\",\n        \"std\": 3.148883608857947,\n        \"min\": 5.7,\n        \"max\": 26.2,\n        \"num_unique_values\": 203,\n        \"samples\": [\n          19.6,\n          20.2,\n          24.2\n        ],\n        \"semantic_type\": \"\",\n        \"description\": \"\"\n      }\n    }\n  ]\n}",
              "type": "dataframe",
              "variable_name": "df"
            },
            "text/html": [
              "\n",
              "  <div id=\"df-116e26e9-2517-4621-97ae-87a89eb9a00c\" class=\"colab-df-container\">\n",
              "    <div>\n",
              "<style scoped>\n",
              "    .dataframe tbody tr th:only-of-type {\n",
              "        vertical-align: middle;\n",
              "    }\n",
              "\n",
              "    .dataframe tbody tr th {\n",
              "        vertical-align: top;\n",
              "    }\n",
              "\n",
              "    .dataframe thead th {\n",
              "        text-align: right;\n",
              "    }\n",
              "</style>\n",
              "<table border=\"1\" class=\"dataframe\">\n",
              "  <thead>\n",
              "    <tr style=\"text-align: right;\">\n",
              "      <th></th>\n",
              "      <th>SN</th>\n",
              "      <th>DATE</th>\n",
              "      <th>TIME</th>\n",
              "      <th>\\toC</th>\n",
              "      <th>\\t%RH</th>\n",
              "      <th>\\tDP</th>\n",
              "    </tr>\n",
              "  </thead>\n",
              "  <tbody>\n",
              "    <tr>\n",
              "      <th>0</th>\n",
              "      <td>1</td>\n",
              "      <td>20/12/2019</td>\n",
              "      <td>20:05:41</td>\n",
              "      <td>24.1</td>\n",
              "      <td>99.9</td>\n",
              "      <td>24.1</td>\n",
              "    </tr>\n",
              "    <tr>\n",
              "      <th>1</th>\n",
              "      <td>2</td>\n",
              "      <td>20/12/2019</td>\n",
              "      <td>20:10:41</td>\n",
              "      <td>24.3</td>\n",
              "      <td>93.5</td>\n",
              "      <td>23.2</td>\n",
              "    </tr>\n",
              "    <tr>\n",
              "      <th>2</th>\n",
              "      <td>3</td>\n",
              "      <td>20/12/2019</td>\n",
              "      <td>20:15:41</td>\n",
              "      <td>22.8</td>\n",
              "      <td>94.0</td>\n",
              "      <td>21.8</td>\n",
              "    </tr>\n",
              "    <tr>\n",
              "      <th>3</th>\n",
              "      <td>4</td>\n",
              "      <td>20/12/2019</td>\n",
              "      <td>20:20:41</td>\n",
              "      <td>21.7</td>\n",
              "      <td>96.0</td>\n",
              "      <td>21.0</td>\n",
              "    </tr>\n",
              "    <tr>\n",
              "      <th>4</th>\n",
              "      <td>5</td>\n",
              "      <td>20/12/2019</td>\n",
              "      <td>20:25:41</td>\n",
              "      <td>21.2</td>\n",
              "      <td>98.1</td>\n",
              "      <td>20.9</td>\n",
              "    </tr>\n",
              "  </tbody>\n",
              "</table>\n",
              "</div>\n",
              "    <div class=\"colab-df-buttons\">\n",
              "\n",
              "  <div class=\"colab-df-container\">\n",
              "    <button class=\"colab-df-convert\" onclick=\"convertToInteractive('df-116e26e9-2517-4621-97ae-87a89eb9a00c')\"\n",
              "            title=\"Convert this dataframe to an interactive table.\"\n",
              "            style=\"display:none;\">\n",
              "\n",
              "  <svg xmlns=\"http://www.w3.org/2000/svg\" height=\"24px\" viewBox=\"0 -960 960 960\">\n",
              "    <path d=\"M120-120v-720h720v720H120Zm60-500h600v-160H180v160Zm220 220h160v-160H400v160Zm0 220h160v-160H400v160ZM180-400h160v-160H180v160Zm440 0h160v-160H620v160ZM180-180h160v-160H180v160Zm440 0h160v-160H620v160Z\"/>\n",
              "  </svg>\n",
              "    </button>\n",
              "\n",
              "  <style>\n",
              "    .colab-df-container {\n",
              "      display:flex;\n",
              "      gap: 12px;\n",
              "    }\n",
              "\n",
              "    .colab-df-convert {\n",
              "      background-color: #E8F0FE;\n",
              "      border: none;\n",
              "      border-radius: 50%;\n",
              "      cursor: pointer;\n",
              "      display: none;\n",
              "      fill: #1967D2;\n",
              "      height: 32px;\n",
              "      padding: 0 0 0 0;\n",
              "      width: 32px;\n",
              "    }\n",
              "\n",
              "    .colab-df-convert:hover {\n",
              "      background-color: #E2EBFA;\n",
              "      box-shadow: 0px 1px 2px rgba(60, 64, 67, 0.3), 0px 1px 3px 1px rgba(60, 64, 67, 0.15);\n",
              "      fill: #174EA6;\n",
              "    }\n",
              "\n",
              "    .colab-df-buttons div {\n",
              "      margin-bottom: 4px;\n",
              "    }\n",
              "\n",
              "    [theme=dark] .colab-df-convert {\n",
              "      background-color: #3B4455;\n",
              "      fill: #D2E3FC;\n",
              "    }\n",
              "\n",
              "    [theme=dark] .colab-df-convert:hover {\n",
              "      background-color: #434B5C;\n",
              "      box-shadow: 0px 1px 3px 1px rgba(0, 0, 0, 0.15);\n",
              "      filter: drop-shadow(0px 1px 2px rgba(0, 0, 0, 0.3));\n",
              "      fill: #FFFFFF;\n",
              "    }\n",
              "  </style>\n",
              "\n",
              "    <script>\n",
              "      const buttonEl =\n",
              "        document.querySelector('#df-116e26e9-2517-4621-97ae-87a89eb9a00c button.colab-df-convert');\n",
              "      buttonEl.style.display =\n",
              "        google.colab.kernel.accessAllowed ? 'block' : 'none';\n",
              "\n",
              "      async function convertToInteractive(key) {\n",
              "        const element = document.querySelector('#df-116e26e9-2517-4621-97ae-87a89eb9a00c');\n",
              "        const dataTable =\n",
              "          await google.colab.kernel.invokeFunction('convertToInteractive',\n",
              "                                                    [key], {});\n",
              "        if (!dataTable) return;\n",
              "\n",
              "        const docLinkHtml = 'Like what you see? Visit the ' +\n",
              "          '<a target=\"_blank\" href=https://colab.research.google.com/notebooks/data_table.ipynb>data table notebook</a>'\n",
              "          + ' to learn more about interactive tables.';\n",
              "        element.innerHTML = '';\n",
              "        dataTable['output_type'] = 'display_data';\n",
              "        await google.colab.output.renderOutput(dataTable, element);\n",
              "        const docLink = document.createElement('div');\n",
              "        docLink.innerHTML = docLinkHtml;\n",
              "        element.appendChild(docLink);\n",
              "      }\n",
              "    </script>\n",
              "  </div>\n",
              "\n",
              "\n",
              "<div id=\"df-ae552682-e3ce-4d6f-a0f7-ae878694d6ad\">\n",
              "  <button class=\"colab-df-quickchart\" onclick=\"quickchart('df-ae552682-e3ce-4d6f-a0f7-ae878694d6ad')\"\n",
              "            title=\"Suggest charts\"\n",
              "            style=\"display:none;\">\n",
              "\n",
              "<svg xmlns=\"http://www.w3.org/2000/svg\" height=\"24px\"viewBox=\"0 0 24 24\"\n",
              "     width=\"24px\">\n",
              "    <g>\n",
              "        <path d=\"M19 3H5c-1.1 0-2 .9-2 2v14c0 1.1.9 2 2 2h14c1.1 0 2-.9 2-2V5c0-1.1-.9-2-2-2zM9 17H7v-7h2v7zm4 0h-2V7h2v10zm4 0h-2v-4h2v4z\"/>\n",
              "    </g>\n",
              "</svg>\n",
              "  </button>\n",
              "\n",
              "<style>\n",
              "  .colab-df-quickchart {\n",
              "      --bg-color: #E8F0FE;\n",
              "      --fill-color: #1967D2;\n",
              "      --hover-bg-color: #E2EBFA;\n",
              "      --hover-fill-color: #174EA6;\n",
              "      --disabled-fill-color: #AAA;\n",
              "      --disabled-bg-color: #DDD;\n",
              "  }\n",
              "\n",
              "  [theme=dark] .colab-df-quickchart {\n",
              "      --bg-color: #3B4455;\n",
              "      --fill-color: #D2E3FC;\n",
              "      --hover-bg-color: #434B5C;\n",
              "      --hover-fill-color: #FFFFFF;\n",
              "      --disabled-bg-color: #3B4455;\n",
              "      --disabled-fill-color: #666;\n",
              "  }\n",
              "\n",
              "  .colab-df-quickchart {\n",
              "    background-color: var(--bg-color);\n",
              "    border: none;\n",
              "    border-radius: 50%;\n",
              "    cursor: pointer;\n",
              "    display: none;\n",
              "    fill: var(--fill-color);\n",
              "    height: 32px;\n",
              "    padding: 0;\n",
              "    width: 32px;\n",
              "  }\n",
              "\n",
              "  .colab-df-quickchart:hover {\n",
              "    background-color: var(--hover-bg-color);\n",
              "    box-shadow: 0 1px 2px rgba(60, 64, 67, 0.3), 0 1px 3px 1px rgba(60, 64, 67, 0.15);\n",
              "    fill: var(--button-hover-fill-color);\n",
              "  }\n",
              "\n",
              "  .colab-df-quickchart-complete:disabled,\n",
              "  .colab-df-quickchart-complete:disabled:hover {\n",
              "    background-color: var(--disabled-bg-color);\n",
              "    fill: var(--disabled-fill-color);\n",
              "    box-shadow: none;\n",
              "  }\n",
              "\n",
              "  .colab-df-spinner {\n",
              "    border: 2px solid var(--fill-color);\n",
              "    border-color: transparent;\n",
              "    border-bottom-color: var(--fill-color);\n",
              "    animation:\n",
              "      spin 1s steps(1) infinite;\n",
              "  }\n",
              "\n",
              "  @keyframes spin {\n",
              "    0% {\n",
              "      border-color: transparent;\n",
              "      border-bottom-color: var(--fill-color);\n",
              "      border-left-color: var(--fill-color);\n",
              "    }\n",
              "    20% {\n",
              "      border-color: transparent;\n",
              "      border-left-color: var(--fill-color);\n",
              "      border-top-color: var(--fill-color);\n",
              "    }\n",
              "    30% {\n",
              "      border-color: transparent;\n",
              "      border-left-color: var(--fill-color);\n",
              "      border-top-color: var(--fill-color);\n",
              "      border-right-color: var(--fill-color);\n",
              "    }\n",
              "    40% {\n",
              "      border-color: transparent;\n",
              "      border-right-color: var(--fill-color);\n",
              "      border-top-color: var(--fill-color);\n",
              "    }\n",
              "    60% {\n",
              "      border-color: transparent;\n",
              "      border-right-color: var(--fill-color);\n",
              "    }\n",
              "    80% {\n",
              "      border-color: transparent;\n",
              "      border-right-color: var(--fill-color);\n",
              "      border-bottom-color: var(--fill-color);\n",
              "    }\n",
              "    90% {\n",
              "      border-color: transparent;\n",
              "      border-bottom-color: var(--fill-color);\n",
              "    }\n",
              "  }\n",
              "</style>\n",
              "\n",
              "  <script>\n",
              "    async function quickchart(key) {\n",
              "      const quickchartButtonEl =\n",
              "        document.querySelector('#' + key + ' button');\n",
              "      quickchartButtonEl.disabled = true;  // To prevent multiple clicks.\n",
              "      quickchartButtonEl.classList.add('colab-df-spinner');\n",
              "      try {\n",
              "        const charts = await google.colab.kernel.invokeFunction(\n",
              "            'suggestCharts', [key], {});\n",
              "      } catch (error) {\n",
              "        console.error('Error during call to suggestCharts:', error);\n",
              "      }\n",
              "      quickchartButtonEl.classList.remove('colab-df-spinner');\n",
              "      quickchartButtonEl.classList.add('colab-df-quickchart-complete');\n",
              "    }\n",
              "    (() => {\n",
              "      let quickchartButtonEl =\n",
              "        document.querySelector('#df-ae552682-e3ce-4d6f-a0f7-ae878694d6ad button');\n",
              "      quickchartButtonEl.style.display =\n",
              "        google.colab.kernel.accessAllowed ? 'block' : 'none';\n",
              "    })();\n",
              "  </script>\n",
              "</div>\n",
              "    </div>\n",
              "  </div>\n"
            ],
            "text/plain": [
              "   SN        DATE      TIME  \\toC  \\t%RH  \\tDP\n",
              "0   1  20/12/2019  20:05:41  24.1   99.9  24.1\n",
              "1   2  20/12/2019  20:10:41  24.3   93.5  23.2\n",
              "2   3  20/12/2019  20:15:41  22.8   94.0  21.8\n",
              "3   4  20/12/2019  20:20:41  21.7   96.0  21.0\n",
              "4   5  20/12/2019  20:25:41  21.2   98.1  20.9"
            ]
          },
          "execution_count": 6,
          "metadata": {},
          "output_type": "execute_result"
        }
      ],
      "source": [
        "df.head()"
      ]
    },
    {
      "cell_type": "code",
      "execution_count": null,
      "metadata": {
        "colab": {
          "base_uri": "https://localhost:8080/"
        },
        "id": "d7CAUxedf0Qn",
        "outputId": "2eba9254-5647-4089-e7fc-15ed904f946b"
      },
      "outputs": [
        {
          "name": "stdout",
          "output_type": "stream",
          "text": [
            "<class 'pandas.core.frame.DataFrame'>\n",
            "RangeIndex: 37655 entries, 0 to 37654\n",
            "Data columns (total 7 columns):\n",
            " #   Column    Non-Null Count  Dtype  \n",
            "---  ------    --------------  -----  \n",
            " 0   SN        37655 non-null  int64  \n",
            " 1   DATE      37655 non-null  object \n",
            " 2   TIME      37655 non-null  object \n",
            " 3   \toC       37655 non-null  float64\n",
            " 4   \t%RH      37655 non-null  float64\n",
            " 5   \tDP       37655 non-null  float64\n",
            " 6   datetime  37655 non-null  object \n",
            "dtypes: float64(3), int64(1), object(3)\n",
            "memory usage: 2.0+ MB\n"
          ]
        }
      ],
      "source": [
        "# Vamos a crear una columna donde esté la información de la fecha y de la hora\n",
        "\n",
        "df['datetime'] = df['DATE'] + ' ' + df['TIME']\n",
        "df.info()"
      ]
    },
    {
      "cell_type": "markdown",
      "metadata": {
        "id": "66smRU30wvDl"
      },
      "source": [
        "# Ejercicio 2 (1.0)\n",
        "\n",
        "Haga los siguientes cambios sobre el DataFrame:\n",
        "\n",
        "Cambie los nombres y los tipos de datos de las columnas de la siguiente manera:\n",
        "\n",
        "- Columna SN: cambie el tipo de dato a dato entero.\n",
        "- Columna DATE: eliminar.\n",
        "- Columna TIME: eliminar.\n",
        "- Columna datetime: cambiar el tipo de dato a dato datetime64[ns].\n",
        "- Columna \\toC: cambiar nombre a T[C].\n",
        "- Columna \\t%RH: cambiar nombre a RH[%].\n",
        "- Columna \\tDP: eliminar."
      ]
    },
    {
      "cell_type": "markdown",
      "metadata": {
        "id": "Z5vsyNoUg6ph"
      },
      "source": [
        "# Ejercicio 3 (1.0)\n",
        "\n",
        "- Graficar la temperatura con respecto al timepo.\n",
        "- Graficar el porcentaje de humedad con respecto al tiempo.\n",
        "\n",
        "Tenga en cuenta poner etiquetas a los ejes, títulos a las gráficas, la escala de temperatura debe ir desde 0°C a 50°C y la de porcentaje de humedad de 0% a 100%. Además, en el eje y poner las fechas rotadas 90 grados."
      ]
    },
    {
      "cell_type": "markdown",
      "metadata": {
        "id": "pqqr9ZkLjUb3"
      },
      "source": [
        "# Ejercicio 4 (1.0)\n",
        "\n",
        "- Indique el año, mes, día y hora dónde la temperatura fue mayor e indique ese valor.\n",
        "- Indique el año, mes, día y hora dónde la temperatura fue menor e indique ese valor.\n",
        "- Indique el año, mes, día y hora dónde la humedad relativa fue mayor e indique ese valor.\n",
        "- Indique el año, mes, día y hora dónde la humedad relativa fue menor e indique ese valor."
      ]
    },
    {
      "cell_type": "markdown",
      "metadata": {
        "id": "B7fOk4nskMEE"
      },
      "source": [
        "# Ejercicio 5 (1.0)\n",
        "\n",
        "- Encuentre el año y mes dónde la temperatura promedio fue mayor.\n",
        "- Encuentre el año y mes dónde la temperatura promedio fue menor.\n",
        "- Encuentre el año y mes dónde la humedad relativa promedio fue mayor.\n",
        "- Encuentre el año y mes dónde la humedad relativa promedio fue menor.\n",
        "\n",
        "¿La información de temperatura y humedad se corresponde?"
      ]
    },
    {
      "cell_type": "markdown",
      "metadata": {
        "id": "5RUf0jYUlgST"
      },
      "source": [
        "# Ejercicio 6 (1.0)\n",
        "\n",
        "Escoja un día y determine:\n",
        "\n",
        "- La temperatura máxima, mímina y promedio en la madrugada (00 horas a 06 horas).\n",
        "- La temperatura máxima, mímina y promedio en la mañana (06 horas a 12 horas).\n",
        "- La temperatura máxima, mímina y promedio en la tarde (12 horas a 18 horas).\n",
        "- La temperatura máxima, mímina y promedio en la noche (19 horas a 00 horas).\n",
        "\n",
        "¿Qué opina del resultado obtenido?"
      ]
    }
  ],
  "metadata": {
    "colab": {
      "provenance": []
    },
    "kernelspec": {
      "display_name": "Python 3",
      "name": "python3"
    },
    "language_info": {
      "codemirror_mode": {
        "name": "ipython",
        "version": 3
      },
      "file_extension": ".py",
      "mimetype": "text/x-python",
      "name": "python",
      "nbconvert_exporter": "python",
      "pygments_lexer": "ipython3",
      "version": "3.11.9"
    }
  },
  "nbformat": 4,
  "nbformat_minor": 0
}

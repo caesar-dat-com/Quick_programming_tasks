{
 "cells": [
  {
   "cell_type": "markdown",
   "metadata": {},
   "source": [
    "El programa ejecuta una función llamada quadratic_roots_solver() que sirve para resolver ecuaciones cuadráticas. Comienza solicitando al usuario que introduzca los coeficientes a, b, y c de una ecuación cuadrática. A continuación, calcula el discriminante, que es necesario para determinar si las raíces de la ecuación son reales o no. Después de calcular el discriminante, el programa muestra la ecuación cuadrática con los valores proporcionados por el usuario. Si el discriminante es positivo o cero, el programa procede a calcular y mostrar las dos raíces reales de la ecuación, que pueden ser distintas o iguales. Si el discriminante es negativo, el programa informa al usuario de que las raíces de la ecuación no son reales, lo que significa que no hay soluciones reales para la ecuación dada. La función se ejecuta al final del código, poniendo en marcha el proceso descrito."
   ]
  },
  {
   "cell_type": "markdown",
   "metadata": {},
   "source": [
    "Inicio\n",
    "    Definir función quadratic_roots_solver\n",
    "        Solicitar al usuario el coeficiente a\n",
    "        Solicitar al usuario el coeficiente b\n",
    "        Solicitar al usuario el coeficiente c\n",
    "\n",
    "        Calcular el discriminante como b^2 - 4*a*c\n",
    "\n",
    "        Mostrar \"La ecuación cuadrática ingresada es: ax² + bx + c = 0\" con los valores de a, b, y c\n",
    "\n",
    "        Si el discriminante es mayor o igual a 0 entonces\n",
    "            Calcular la primera raíz real como (-b + raíz cuadrada del discriminante) / (2*a)\n",
    "            Calcular la segunda raíz real como (-b - raíz cuadrada del discriminante) / (2*a)\n",
    "            Mostrar \"Las raíces reales son: raíz1 y raíz2\" con los valores de las raíces calculadas\n",
    "        Sino\n",
    "            Mostrar \"Las raíces no son reales.\"\n",
    "        Fin Si\n",
    "    Fin Definición de función\n",
    "\n",
    "    Llamar a la función quadratic_roots_solver para ejecutar el programa\n",
    "Fin\n"
   ]
  },
  {
   "cell_type": "code",
   "execution_count": 10,
   "metadata": {},
   "outputs": [
    {
     "name": "stdout",
     "output_type": "stream",
     "text": [
      "The entered quadratic equation is: 56.0x² + 5.7x + 2.0 = 0\n",
      "The roots are not real.\n"
     ]
    }
   ],
   "source": [
    "def quadratic_roots_solver():\n",
    "    # Ask for the coefficients a, b, and c from the user\n",
    "    a = float(input(\"Enter coefficient a: \"))\n",
    "    b = float(input(\"Enter coefficient b: \"))\n",
    "    c = float(input(\"Enter coefficient c: \"))\n",
    "\n",
    "    # Calculate the discriminant\n",
    "    discriminant = b**2 - 4*a*c\n",
    "\n",
    "    # Display the entered quadratic equation\n",
    "    print(f\"The entered quadratic equation is: {a}x² + {b}x + {c} = 0\")\n",
    "\n",
    "    # Check if the roots are real or not\n",
    "    if discriminant >= 0:\n",
    "        # Calculate the two real roots\n",
    "        root1 = (-b + discriminant**0.5) / (2*a)\n",
    "        root2 = (-b - discriminant**0.5) / (2*a)\n",
    "        print(f\"The real roots are: {root1} and {root2}\")\n",
    "    else:\n",
    "        # Indicate that the roots are not real\n",
    "        print(\"The roots are not real.\")\n",
    "\n",
    "# Call the function to execute the program\n",
    "quadratic_roots_solver()"
   ]
  }
 ],
 "metadata": {
  "kernelspec": {
   "display_name": "Python 3",
   "language": "python",
   "name": "python3"
  },
  "language_info": {
   "codemirror_mode": {
    "name": "ipython",
    "version": 3
   },
   "file_extension": ".py",
   "mimetype": "text/x-python",
   "name": "python",
   "nbconvert_exporter": "python",
   "pygments_lexer": "ipython3",
   "version": "3.11.8"
  }
 },
 "nbformat": 4,
 "nbformat_minor": 2
}

{
 "cells": [
  {
   "cell_type": "markdown",
   "metadata": {},
   "source": [
    "El programa ejecuta la función is_prime para determinar si un número es primo, iniciando con un bucle que solicita al usuario ingresar un número mayor que 0; si el usuario introduce algo que no se puede convertir a un número entero, se le pide de nuevo hasta que se ingrese un valor válido. Una vez ingresado un número positivo, la función is_prime evalúa si es menor o igual a 1 (caso en el cual no es primo) o si es divisible por cualquier número desde 2 hasta la raíz cuadrada del número ingresado más uno, retornando False si encuentra un divisor, lo que indica que el número no es primo. Si el número supera estas pruebas, se considera primo, y el programa imprime el resultado correspondiente antes de finalizar el bucle, proporcionando así una manera eficiente de verificar la primalidad de un número ingresado por el usuario."
   ]
  },
  {
   "cell_type": "markdown",
   "metadata": {},
   "source": [
    "// Define la función para verificar si un número es primo\n",
    "Función es_primo(numero)\n",
    "    // Si el número es menor o igual a 1, no es primo\n",
    "    Si numero <= 1 Entonces\n",
    "        Devuelve Falso\n",
    "    FinSi\n",
    "\n",
    "    // Itera desde 2 hasta la raíz cuadrada del número\n",
    "    Para i = 2 Hasta la raíz cuadrada de numero + 1 Hacer\n",
    "        // Si el número es divisible por i, no es primo\n",
    "        Si numero mod i == 0 Entonces\n",
    "            Devuelve Falso\n",
    "        FinSi\n",
    "    FinPara\n",
    "\n",
    "    // Si no se encontraron divisores, el número es primo\n",
    "    Devuelve Verdadero\n",
    "FinFunción\n",
    "\n",
    "// Bucle infinito para pedir al usuario un número\n",
    "Mientras Verdadero Hacer\n",
    "    Intentar\n",
    "        // Solicita al usuario que ingrese un número mayor que 0\n",
    "        numero = LeerEntrada(\"Ingrese un número mayor que 0: \")\n",
    "\n",
    "        // Convierte la entrada a entero\n",
    "        numero = ConvertirAEntero(numero)\n",
    "\n",
    "        // Verifica que el número sea mayor que 0\n",
    "        Si numero > 0 Entonces\n",
    "            // Verifica si el número es primo\n",
    "            Si es_primo(numero) Entonces\n",
    "                Imprimir(\"El número \" + numero + \" es primo.\")\n",
    "            Sino\n",
    "                Imprimir(\"El número \" + numero + \" no es primo.\")\n",
    "            FinSi\n",
    "            // Salir del bucle después de verificar\n",
    "            SalirDelBucle\n",
    "        Sino\n",
    "            Imprimir(\"El número debe ser mayor que 0. Intente de nuevo.\")\n",
    "        FinSi\n",
    "    Atrapar ValorNoVálido\n",
    "        // Maneja el error si la entrada no es un número\n",
    "        Imprimir(\"Debe ingresar un número válido. Intente de nuevo.\")\n",
    "    FinIntentar\n",
    "FinMientras\n"
   ]
  },
  {
   "cell_type": "code",
   "execution_count": 2,
   "metadata": {},
   "outputs": [
    {
     "name": "stdout",
     "output_type": "stream",
     "text": [
      "The number 5 is prime.\n"
     ]
    }
   ],
   "source": [
    "def is_prime(number):\n",
    "    \"\"\"Function to check if a number is prime.\"\"\"\n",
    "    if number <= 1:\n",
    "        return False\n",
    "    for i in range(2, int(number**0.5) + 1):\n",
    "        if number % i == 0:\n",
    "            return False\n",
    "    return True\n",
    "\n",
    "while True:\n",
    "    try:\n",
    "        number = int(input(\"Enter a number greater than 0: \"))\n",
    "        if number > 0:\n",
    "            if is_prime(number):\n",
    "                print(f\"The number {number} is prime.\")\n",
    "            else:\n",
    "                print(f\"The number {number} is not prime.\")\n",
    "            break  # Exit the loop if the number is valid and has been checked for primality\n",
    "        else:\n",
    "            print(\"The number must be greater than 0. Please try again.\")\n",
    "    except ValueError:\n",
    "        print(\"You must enter a valid number. Please try again.\")\n"
   ]
  }
 ],
 "metadata": {
  "kernelspec": {
   "display_name": "Python 3",
   "language": "python",
   "name": "python3"
  },
  "language_info": {
   "codemirror_mode": {
    "name": "ipython",
    "version": 3
   },
   "file_extension": ".py",
   "mimetype": "text/x-python",
   "name": "python",
   "nbconvert_exporter": "python",
   "pygments_lexer": "ipython3",
   "version": "3.11.8"
  }
 },
 "nbformat": 4,
 "nbformat_minor": 2
}

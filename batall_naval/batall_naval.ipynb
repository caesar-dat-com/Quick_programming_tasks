{
 "cells": [
  {
   "cell_type": "markdown",
   "metadata": {},
   "source": [
    "# Importación de librerías\n",
    "Primero, importamos la librería necesaria para generar números aleatorios, que será crucial para la colocación de los barcos y los ataques de la máquina."
   ]
  },
  {
   "cell_type": "code",
   "execution_count": 1,
   "metadata": {},
   "outputs": [],
   "source": [
    "import random\n"
   ]
  },
  {
   "cell_type": "markdown",
   "metadata": {},
   "source": [
    "# Función para inicializar el tablero"
   ]
  },
  {
   "cell_type": "code",
   "execution_count": 2,
   "metadata": {},
   "outputs": [],
   "source": [
    "def inicializar_tablero():\n",
    "    return [[\" \" for _ in range(5)] for _ in range(5)]\n"
   ]
  },
  {
   "cell_type": "markdown",
   "metadata": {},
   "source": [
    "# Función para colocar barcos\n",
    "Esta función coloca tres barcos de forma aleatoria en el tablero que se le pase como argumento. Cada barco ocupa una sola posición en la matriz."
   ]
  },
  {
   "cell_type": "code",
   "execution_count": 3,
   "metadata": {},
   "outputs": [],
   "source": [
    "def colocar_barcos(tablero):\n",
    "    count = 0\n",
    "    while count < 3:\n",
    "        x, y = random.randint(0, 4), random.randint(0, 4)\n",
    "        if tablero[x][y] == \" \":\n",
    "            tablero[x][y] = \"B\"\n",
    "            count += 1\n"
   ]
  },
  {
   "cell_type": "markdown",
   "metadata": {},
   "source": [
    "# Función para imprimir el tablero\n",
    "Esta función imprime el tablero de forma legible para el jugador. Se mostrarán los índices de las filas y columnas para facilitar la lectura y entrada de coordenadas."
   ]
  },
  {
   "cell_type": "code",
   "execution_count": 4,
   "metadata": {},
   "outputs": [],
   "source": [
    "def imprimir_tablero(tablero):\n",
    "    print(\"  \" + \" \".join(str(i) for i in range(5)))\n",
    "    for idx, fila in enumerate(tablero):\n",
    "        print(idx, \" \".join(fila))"
   ]
  },
  {
   "cell_type": "markdown",
   "metadata": {},
   "source": [
    "# Función para pedir coordenadas\n",
    "Esta función solicita al jugador que ingrese coordenadas para colocar o atacar barcos. Verifica que las coordenadas estén dentro del rango permitido del tablero."
   ]
  },
  {
   "cell_type": "code",
   "execution_count": 5,
   "metadata": {},
   "outputs": [],
   "source": [
    "def pedir_coordenadas():\n",
    "    while True:\n",
    "        x = int(input(\"Ingrese coordenada X (0-4): \"))\n",
    "        y = int(input(\"Ingrese coordenada Y (0-4): \"))\n",
    "        if 0 <= x < 5 and 0 <= y < 5:\n",
    "            return x, y\n",
    "        else:\n",
    "            print(\"Coordenadas fuera de rango. Intente de nuevo.\")\n"
   ]
  },
  {
   "cell_type": "markdown",
   "metadata": {},
   "source": [
    "# Función para realizar un ataque\n",
    "Esta función gestiona los ataques realizados tanto por el jugador como por la máquina. Actualiza el tablero basado en si el ataque fue exitoso o no y registra el resultado en un tablero de ataques separado."
   ]
  },
  {
   "cell_type": "code",
   "execution_count": 6,
   "metadata": {},
   "outputs": [],
   "source": [
    "def realizar_ataque(tablero, x, y, ataques):\n",
    "    if tablero[x][y] == \"B\":\n",
    "        print(\"¡Ataque exitoso!\")\n",
    "        tablero[x][y] = \"X\"\n",
    "        ataques[x][y] = \"X\"\n",
    "        return True\n",
    "    elif tablero[x][y] == \" \":\n",
    "        print(\"Ataque fallido.\")\n",
    "        tablero[x][y] = \"-\"\n",
    "        ataques[x][y] = \"-\"\n",
    "    return False\n"
   ]
  },
  {
   "cell_type": "markdown",
   "metadata": {},
   "source": [
    "# Función principal del juego\n",
    "Esta función organiza el flujo general del juego, incorporando todas las funciones anteriores. Gestiona el turno del jugador y de la máquina, y determina cuándo termina el juego."
   ]
  },
  {
   "cell_type": "code",
   "execution_count": 7,
   "metadata": {},
   "outputs": [],
   "source": [
    "def juego():\n",
    "    tablero_jugador = inicializar_tablero()\n",
    "    tablero_maquina = inicializar_tablero()\n",
    "    ataques_jugador = inicializar_tablero()\n",
    "    ataques_maquina = inicializar_tablero()\n",
    "\n",
    "    colocar_barcos(tablero_maquina)\n",
    "    print(\"Coloca tus tres barcos:\")\n",
    "    for _ in range(3):\n",
    "        x, y = pedir_coordenadas()\n",
    "        while tablero_jugador[x][y] == \"B\":\n",
    "            print(\"Ya existe un barco en esa posición. Intenta otra vez.\")\n",
    "            x, y = pedir_coordenadas()\n",
    "        tablero_jugador[x][y] = \"B\"\n",
    "\n",
    "    barcos_jugador = 3\n",
    "    barcos_maquina = 3\n",
    "\n",
    "    while barcos_jugador > 0 and barcos_maquina > 0:\n",
    "        print(\"\\nTu tablero de juego (con ataques recibidos):\")\n",
    "        imprimir_tablero(tablero_jugador)\n",
    "\n",
    "        print(\"\\nTu tablero de ataques:\")\n",
    "        imprimir_tablero(ataques_jugador)\n",
    "\n",
    "        print(\"\\nTu turno de atacar:\")\n",
    "        x, y = pedir_coordenadas()\n",
    "        if ataques_jugador[x][y] != \" \":\n",
    "            print(\"Ya atacaste esta posición. Intenta otra.\")\n",
    "            continue\n",
    "        if realizar_ataque(tablero_maquina, x, y, ataques_jugador):\n",
    "            barcos_maquina -= 1\n",
    "\n",
    "        print(\"\\nTurno de la máquina de atacar:\")\n",
    "        while True:\n",
    "            x, y = random.randint(0, 4), random.randint(0, 4)\n",
    "            if ataques_maquina[x][y] == \" \":\n",
    "                if realizar_ataque(tablero_jugador, x, y, ataques_maquina):\n",
    "                    barcos_jugador -= 1\n",
    "                break\n",
    "\n",
    "    print(\"\\nJuego terminado\")\n",
    "    if barcos_maquina == 0:\n",
    "        print(\"¡Felicidades, has ganado!\")\n",
    "    else:\n",
    "        print(\"La máquina ha ganado. Mejor suerte la próxima vez.\")\n",
    "\n",
    "    print(\"\\nTu tablero final:\")\n",
    "    imprimir_tablero(tablero_jugador)\n",
    "    print(\"\\nTablero de ataques finales contra la máquina:\")\n",
    "    imprimir_tablero(ataques_jugador)\n"
   ]
  },
  {
   "cell_type": "markdown",
   "metadata": {},
   "source": [
    "# Iniciar el juego\n",
    "Finalmente, puedes llamar a la función juego() para empezar a jugar."
   ]
  },
  {
   "cell_type": "code",
   "execution_count": 8,
   "metadata": {},
   "outputs": [
    {
     "name": "stdout",
     "output_type": "stream",
     "text": [
      "Coloca tus tres barcos:\n",
      "Ya existe un barco en esa posición. Intenta otra vez.\n",
      "Ya existe un barco en esa posición. Intenta otra vez.\n",
      "Ya existe un barco en esa posición. Intenta otra vez.\n",
      "\n",
      "Tu tablero de juego (con ataques recibidos):\n",
      "  0 1 2 3 4\n",
      "0          \n",
      "1          \n",
      "2       B  \n",
      "3       B  \n",
      "4         B\n",
      "\n",
      "Tu tablero de ataques:\n",
      "  0 1 2 3 4\n",
      "0          \n",
      "1          \n",
      "2          \n",
      "3          \n",
      "4          \n",
      "\n",
      "Tu turno de atacar:\n",
      "Ataque fallido.\n",
      "\n",
      "Turno de la máquina de atacar:\n",
      "Ataque fallido.\n",
      "\n",
      "Tu tablero de juego (con ataques recibidos):\n",
      "  0 1 2 3 4\n",
      "0          \n",
      "1         -\n",
      "2       B  \n",
      "3       B  \n",
      "4         B\n",
      "\n",
      "Tu tablero de ataques:\n",
      "  0 1 2 3 4\n",
      "0          \n",
      "1          \n",
      "2          \n",
      "3          \n",
      "4     -    \n",
      "\n",
      "Tu turno de atacar:\n"
     ]
    },
    {
     "ename": "ValueError",
     "evalue": "invalid literal for int() with base 10: ''",
     "output_type": "error",
     "traceback": [
      "\u001b[1;31m---------------------------------------------------------------------------\u001b[0m",
      "\u001b[1;31mValueError\u001b[0m                                Traceback (most recent call last)",
      "Cell \u001b[1;32mIn[8], line 1\u001b[0m\n\u001b[1;32m----> 1\u001b[0m \u001b[43mjuego\u001b[49m\u001b[43m(\u001b[49m\u001b[43m)\u001b[49m\n",
      "Cell \u001b[1;32mIn[7], line 27\u001b[0m, in \u001b[0;36mjuego\u001b[1;34m()\u001b[0m\n\u001b[0;32m     24\u001b[0m imprimir_tablero(ataques_jugador)\n\u001b[0;32m     26\u001b[0m \u001b[38;5;28mprint\u001b[39m(\u001b[38;5;124m\"\u001b[39m\u001b[38;5;130;01m\\n\u001b[39;00m\u001b[38;5;124mTu turno de atacar:\u001b[39m\u001b[38;5;124m\"\u001b[39m)\n\u001b[1;32m---> 27\u001b[0m x, y \u001b[38;5;241m=\u001b[39m \u001b[43mpedir_coordenadas\u001b[49m\u001b[43m(\u001b[49m\u001b[43m)\u001b[49m\n\u001b[0;32m     28\u001b[0m \u001b[38;5;28;01mif\u001b[39;00m ataques_jugador[x][y] \u001b[38;5;241m!=\u001b[39m \u001b[38;5;124m\"\u001b[39m\u001b[38;5;124m \u001b[39m\u001b[38;5;124m\"\u001b[39m:\n\u001b[0;32m     29\u001b[0m     \u001b[38;5;28mprint\u001b[39m(\u001b[38;5;124m\"\u001b[39m\u001b[38;5;124mYa atacaste esta posición. Intenta otra.\u001b[39m\u001b[38;5;124m\"\u001b[39m)\n",
      "Cell \u001b[1;32mIn[5], line 4\u001b[0m, in \u001b[0;36mpedir_coordenadas\u001b[1;34m()\u001b[0m\n\u001b[0;32m      2\u001b[0m \u001b[38;5;28;01mwhile\u001b[39;00m \u001b[38;5;28;01mTrue\u001b[39;00m:\n\u001b[0;32m      3\u001b[0m     x \u001b[38;5;241m=\u001b[39m \u001b[38;5;28mint\u001b[39m(\u001b[38;5;28minput\u001b[39m(\u001b[38;5;124m\"\u001b[39m\u001b[38;5;124mIngrese coordenada X (0-4): \u001b[39m\u001b[38;5;124m\"\u001b[39m))\n\u001b[1;32m----> 4\u001b[0m     y \u001b[38;5;241m=\u001b[39m \u001b[38;5;28;43mint\u001b[39;49m\u001b[43m(\u001b[49m\u001b[38;5;28;43minput\u001b[39;49m\u001b[43m(\u001b[49m\u001b[38;5;124;43m\"\u001b[39;49m\u001b[38;5;124;43mIngrese coordenada Y (0-4): \u001b[39;49m\u001b[38;5;124;43m\"\u001b[39;49m\u001b[43m)\u001b[49m\u001b[43m)\u001b[49m\n\u001b[0;32m      5\u001b[0m     \u001b[38;5;28;01mif\u001b[39;00m \u001b[38;5;241m0\u001b[39m \u001b[38;5;241m<\u001b[39m\u001b[38;5;241m=\u001b[39m x \u001b[38;5;241m<\u001b[39m \u001b[38;5;241m5\u001b[39m \u001b[38;5;129;01mand\u001b[39;00m \u001b[38;5;241m0\u001b[39m \u001b[38;5;241m<\u001b[39m\u001b[38;5;241m=\u001b[39m y \u001b[38;5;241m<\u001b[39m \u001b[38;5;241m5\u001b[39m:\n\u001b[0;32m      6\u001b[0m         \u001b[38;5;28;01mreturn\u001b[39;00m x, y\n",
      "\u001b[1;31mValueError\u001b[0m: invalid literal for int() with base 10: ''"
     ]
    }
   ],
   "source": [
    "juego()\n"
   ]
  }
 ],
 "metadata": {
  "kernelspec": {
   "display_name": "Python 3",
   "language": "python",
   "name": "python3"
  },
  "language_info": {
   "codemirror_mode": {
    "name": "ipython",
    "version": 3
   },
   "file_extension": ".py",
   "mimetype": "text/x-python",
   "name": "python",
   "nbconvert_exporter": "python",
   "pygments_lexer": "ipython3",
   "version": "3.11.9"
  }
 },
 "nbformat": 4,
 "nbformat_minor": 2
}

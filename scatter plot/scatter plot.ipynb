{
 "cells": [
  {
   "cell_type": "markdown",
   "metadata": {},
   "source": [
    "# ACTIVIDAD 1 📊\n",
    "\n",
    "### maria_jos.suarez@uao.edu.co\n",
    "### sara_lucia.rojas@uao.edu.co\n",
    "### mariana.cifuentes@uao.edu.co\n",
    "### cesar_armando.reyes@uao.edu.co\n",
    "\n",
    "\n",
    "A cada grupo se le asigna un tipo de gráfica y debe presentar:\n",
    "\n",
    "1. **Un ejemplo en Python del uso de ese tipo de gráfica.** 🐍\n",
    "\n",
    "    ```python\n",
    "    import matplotlib.pyplot as plt\n",
    "    import numpy as np\n",
    "\n",
    "    x = np.arange(0., 10., 0.2)\n",
    "    y = np.sin(x)\n",
    "\n",
    "    plt.plot(x, y)\n",
    "    plt.title('Ejemplo de Gráfica de Línea')\n",
    "    plt.xlabel('Eje X')\n",
    "    plt.ylabel('Eje Y')\n",
    "    plt.show()\n",
    "    ```\n",
    "\n",
    "2. **Una explicación de lo que muestra la gráfica.** 🔍\n",
    "\n",
    "    La gráfica muestra la relación entre dos conjuntos de datos, en este caso, los valores de `x` y los valores de `y` que se calculan como el seno de `x`. Esto permite visualizar cómo el valor de `y` cambia con `x`, mostrando un patrón ondulatorio típico de la función seno.\n",
    "\n",
    "3. **Una explicación de los diferentes parámetros de configuración.** ⚙️\n",
    "\n",
    "    - `x` y `y`: Conjuntos de datos que queremos graficar.\n",
    "    - `plt.plot()`: Función para crear una gráfica de línea.\n",
    "    - `plt.title()`: Añade un título a la gráfica.\n",
    "    - `plt.xlabel()` y `plt.ylabel()`: Añaden etiquetas a los ejes X e Y, respectivamente.\n",
    "    - `plt.show()`: Muestra la gráfica.\n",
    "\n",
    "4. **En qué casos de uso en análisis de datos se utiliza ese tipo de gráfica.** 📈\n",
    "\n",
    "    Las gráficas de línea se utilizan ampliamente en el análisis de datos para visualizar la evolución de un valor a lo largo del tiempo, comparar varias series de datos en el mismo intervalo de tiempo, o destacar tendencias y patrones dentro de un conjunto de datos.\n"
   ]
  },
  {
   "cell_type": "markdown",
   "metadata": {},
   "source": [
    "# Gráfico de Dispersión (Scatter Plot) 📊\n",
    "\n",
    "Un gráfico de dispersión utiliza coordenadas cartesianas para mostrar valores de dos variables de un conjunto de datos, colocando una variable en el eje X y la otra en el eje Y. Cada punto en el gráfico 📍 representa el valor de ambas variables, lo cual permite identificar correlaciones, dispersión de los datos, outliers y tendencias. Son herramientas esenciales en estadística y diversas áreas de investigación 🔍, útiles para examinar la relación entre variables de manera visual.\n"
   ]
  },
  {
   "cell_type": "code",
   "execution_count": 1,
   "metadata": {},
   "outputs": [],
   "source": [
    "import pandas as pd\n",
    "import matplotlib.pyplot as plt"
   ]
  },
  {
   "cell_type": "markdown",
   "metadata": {},
   "source": [
    "El código realiza tres acciones clave en el contexto de análisis de datos 📊:\n",
    "\n",
    "1. **Definición de la ruta del archivo CSV** 📁: Almacena la ubicación del archivo `Bitcoin Historical Data4.csv` en la variable `archivo_csv`, utilizando una ruta absoluta específica de Windows.\n",
    "\n",
    "2. **Carga del archivo CSV en un DataFrame con Pandas** 🐼: Utiliza `pandas` (importado como `pd`) para leer el contenido del archivo CSV y cargarlo en un DataFrame denominado `df`. Esto facilita la manipulación y el análisis de los datos.\n",
    "\n",
    "3. **Vista previa de los datos** 👀: Imprime las primeras cinco filas del DataFrame con `df.head()`, ofreciendo un vistazo inicial a la estructura de los datos cargados, incluyendo nombres de columnas y las primeras entradas.\n",
    "\n",
    "Este flujo de trabajo es esencial para la carga y revisión preliminar de datos, especialmente valioso en tareas de análisis de datos, con `pandas` proporcionando poderosas herramientas para el manejo de datos estructurados.\n"
   ]
  },
  {
   "cell_type": "code",
   "execution_count": 2,
   "metadata": {},
   "outputs": [
    {
     "name": "stdout",
     "output_type": "stream",
     "text": [
      "         Date     Price      Open      High       Low     Vol. Change %\n",
      "0  03/18/2024  67,594.1  68,389.7  68,920.1  66,601.4   78.07K   -1.17%\n",
      "1  03/17/2024  68,391.2  65,314.2  68,857.7  64,605.5   66.07K    4.71%\n",
      "2  03/16/2024  65,314.2  69,456.5  70,037.0  64,971.0   75.82K   -5.97%\n",
      "3  03/15/2024  69,463.7  71,387.1  72,398.1  65,765.6  148.59K   -2.69%\n",
      "4  03/14/2024  71,387.5  73,066.7  73,740.9  68,717.2  109.43K   -2.30%\n"
     ]
    }
   ],
   "source": [
    "archivo_csv = r\"C:\\Users\\cesar\\Desktop\\platzi\\Quick_programming_tasks\\scatter plot\\Bitcoin Historical Data4.csv\"\n",
    "df = pd.read_csv(archivo_csv)\n",
    "print(df.head())"
   ]
  },
  {
   "cell_type": "code",
   "execution_count": 3,
   "metadata": {},
   "outputs": [
    {
     "name": "stdout",
     "output_type": "stream",
     "text": [
      "          Date     Price      Open      High       Low     Vol. Change %\n",
      "0   03/18/2024  67,594.1  68,389.7  68,920.1  66,601.4   78.07K   -1.17%\n",
      "1   03/17/2024  68,391.2  65,314.2  68,857.7  64,605.5   66.07K    4.71%\n",
      "2   03/16/2024  65,314.2  69,456.5  70,037.0  64,971.0   75.82K   -5.97%\n",
      "3   03/15/2024  69,463.7  71,387.1  72,398.1  65,765.6  148.59K   -2.69%\n",
      "4   03/14/2024  71,387.5  73,066.7  73,740.9  68,717.2  109.43K   -2.30%\n",
      "5   03/13/2024  73,066.3  71,461.9  73,623.5  71,338.4   77.18K    2.23%\n",
      "6   03/12/2024  71,470.2  72,099.1  72,916.7  68,845.6  105.09K   -0.87%\n",
      "7   03/11/2024  72,099.1  68,964.7  72,771.5  67,452.8  114.72K    4.54%\n",
      "8   03/10/2024  69,437.1  68,360.7  69,676.4  68,250.3   37.43K    1.57%\n",
      "9   03/09/2024  68,366.5  68,178.5  68,576.9  67,923.9   30.71K    0.29%\n",
      "10  03/08/2024  68,172.0  66,854.4  69,904.0  66,170.7  112.67K    1.97%\n",
      "11  03/07/2024  66,855.3  66,074.6  67,985.5  65,602.6   77.47K    1.17%\n",
      "12  03/06/2024  66,080.4  63,794.7  67,604.9  62,848.7  117.91K    3.59%\n",
      "13  03/05/2024  63,792.6  68,273.1  69,063.1  60,138.2  207.60K   -6.56%\n",
      "14  03/04/2024  68,270.1  63,135.8  68,495.1  62,746.8  130.86K    8.13%\n",
      "15  03/03/2024  63,135.8  61,955.6  63,227.3  61,399.4   38.01K    1.84%\n",
      "16  03/02/2024  61,994.5  62,397.7  62,446.3  61,621.9   33.80K   -0.65%\n",
      "17  03/01/2024  62,397.7  61,157.3  63,147.3  60,790.9   74.96K    2.01%\n",
      "18  02/29/2024  61,169.3  62,467.1  63,653.4  60,512.5  119.29K   -2.08%\n",
      "19  02/28/2024  62,467.6  57,048.7  63,915.3  56,704.9  173.64K    9.48%\n",
      "20  02/27/2024  57,056.2  54,491.1  57,555.2  54,464.0  100.48K    4.70%\n",
      "21  02/26/2024  54,495.1  51,722.7  54,899.1  50,925.2   78.05K    5.36%\n",
      "22  02/25/2024  51,722.7  51,572.1  51,952.0  51,299.0   23.61K    0.29%\n",
      "23  02/24/2024  51,571.6  50,739.6  51,689.9  50,592.0   20.99K    1.64%\n",
      "24  02/23/2024  50,740.5  51,320.6  51,532.5  50,537.6   43.27K   -1.13%\n",
      "25  02/22/2024  51,320.4  51,850.2  52,015.8  50,947.3   50.27K   -1.04%\n",
      "26  02/21/2024  51,858.2  52,263.5  52,367.3  50,676.9   59.02K   -0.78%\n",
      "27  02/20/2024  52,263.5  51,783.1  52,936.8  50,801.8   68.10K    0.93%\n",
      "28  02/19/2024  51,783.6  52,119.6  52,484.8  51,694.2   36.73K   -0.64%\n",
      "29  02/18/2024  52,117.5  51,646.0  52,350.3  51,199.6   26.89K    0.91%\n"
     ]
    }
   ],
   "source": [
    "df = pd.read_csv(archivo_csv, nrows=30)\n",
    "print(df)"
   ]
  },
  {
   "cell_type": "markdown",
   "metadata": {},
   "source": [
    "Este fragmento de código lleva a cabo una serie de operaciones para manipular y visualizar datos de precios de Bitcoin 📈:\n",
    "\n",
    "1. **Carga de datos** 📂: Utiliza `pandas` para cargar los primeros 30 registros del archivo CSV especificado en `archivo_csv` en un DataFrame `df`. La limitación de filas ayuda a enfocarse en un conjunto de datos más manejable para análisis o visualización preliminar.\n",
    "\n",
    "2. **Conversión de fechas** 📅: Convierte los valores de la columna 'Date' del DataFrame a tipo `datetime` con `pd.to_datetime`, facilitando la manipulación y el formato de fechas para análisis temporales.\n",
    "\n",
    "3. **Limpieza y conversión de precios** 💵: Elimina las comas en los valores de la columna 'Price' y convierte estos valores a tipo `float`. Esto es crucial para realizar operaciones numéricas, como cálculos estadísticos o trazado de gráficos.\n",
    "\n",
    "4. **Visualización de datos** 📊: Utiliza Matplotlib (importado como `plt`) para crear un gráfico lineal del precio de Bitcoin a lo largo del tiempo. Personaliza el gráfico ajustando el tamaño, añadiendo marcadores a los puntos de datos, rotando las etiquetas de las fechas para mejorar la legibilidad, y añadiendo títulos y etiquetas para los ejes. El uso de `plt.grid(True)` mejora la legibilidad al introducir una cuadrícula.\n",
    "\n",
    "Este código es un ejemplo práctico de cómo preparar y visualizar datos financieros, en este caso, el precio de Bitcoin, resaltando la importancia de la limpieza de datos y las técnicas de visualización para el análisis de datos.\n"
   ]
  },
  {
   "cell_type": "code",
   "execution_count": 19,
   "metadata": {},
   "outputs": [
    {
     "data": {
      "image/png": "[encoded data removed]",
      "text/plain": [
       "<Figure size 1000x600 with 1 Axes>"
      ]
     },
     "metadata": {},
     "output_type": "display_data"
    }
   ],
   "source": [
    "df = pd.read_csv(archivo_csv, nrows=30)\n",
    "\n",
    "# Convertir la columna 'Date' a tipo datetime\n",
    "df['Date'] = pd.to_datetime(df['Date'])\n",
    "\n",
    "# Convertir los precios a float, eliminando comas\n",
    "df['Price'] = df['Price'].str.replace(',', '').astype(float)\n",
    "\n",
    "# Configurar el estilo del gráfico\n",
    "plt.style.use('dark_background')\n",
    "\n",
    "plt.figure(figsize=(10, 6))\n",
    "\n",
    "# Asegurarte de que el color de la línea (en este caso 'r' de rojo) contraste bien con el fondo negro\n",
    "plt.plot(df['Date'], df['Price'], marker='x', color='r', linestyle='')\n",
    "\n",
    "# Para cambiar el color del título, las etiquetas y la cuadrícula a blanco,\n",
    "# ya están configurados así por defecto con el estilo 'dark_background'\n",
    "plt.title('Precio de Bitcoin a lo largo del tiempo', color='white')\n",
    "plt.xlabel('Fecha', color='white')\n",
    "plt.ylabel('Precio USD', color='white')\n",
    "plt.grid(True, which='both', axis='both', color='gray', linestyle='-', linewidth=0.5)\n",
    "\n",
    "# Para los ticks, plt.xticks() ya debería manejar bien los colores en el estilo 'dark_background'\n",
    "plt.xticks(rotation=45)\n",
    "\n",
    "plt.tight_layout()\n",
    "plt.show()"
   ]
  }
 ],
 "metadata": {
  "kernelspec": {
   "display_name": "Python 3",
   "language": "python",
   "name": "python3"
  },
  "language_info": {
   "codemirror_mode": {
    "name": "ipython",
    "version": 3
   },
   "file_extension": ".py",
   "mimetype": "text/x-python",
   "name": "python",
   "nbconvert_exporter": "python",
   "pygments_lexer": "ipython3",
   "version": "3.11.8"
  }
 },
 "nbformat": 4,
 "nbformat_minor": 2
}

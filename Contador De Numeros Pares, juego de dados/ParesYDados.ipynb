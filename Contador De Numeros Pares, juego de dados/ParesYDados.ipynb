{
 "cells": [
  {
   "cell_type": "markdown",
   "metadata": {},
   "source": [
    "### Generar una lista de 100 números aleatorios entre 1 y 20.\n",
    "Lista de números pares\n",
    "Contar la cantidad de números pares\n",
    "### Usar la función para obtener la cantidad y lista de números pares.\n",
    "### Mostrar la lista original, lista de pares y cantidad de pares."
   ]
  },
  {
   "cell_type": "code",
   "execution_count": 2,
   "metadata": {},
   "outputs": [
    {
     "name": "stdout",
     "output_type": "stream",
     "text": [
      "Lista original de números aleatorios: [16, 4, 20, 12, 17, 2, 5, 11, 16, 19, 5, 9, 6, 14, 18, 13, 12, 13, 20, 15, 14, 5, 16, 9, 8, 18, 1, 13, 1, 1, 2, 2, 4, 10, 16, 2, 9, 1, 4, 19, 18, 14, 11, 12, 2, 18, 15, 10, 10, 2, 5, 19, 14, 4, 2, 10, 17, 1, 19, 19, 10, 2, 16, 5, 2, 16, 5, 6, 17, 16, 1, 11, 5, 12, 5, 15, 8, 14, 18, 1, 9, 6, 12, 13, 5, 19, 17, 4, 10, 2, 7, 3, 16, 12, 6, 15, 18, 12, 11, 1]\n",
      "Lista de números pares encontrados: [16, 4, 20, 12, 2, 16, 6, 14, 18, 12, 20, 14, 16, 8, 18, 2, 2, 4, 10, 16, 2, 4, 18, 14, 12, 2, 18, 10, 10, 2, 14, 4, 2, 10, 10, 2, 16, 2, 16, 6, 16, 12, 8, 14, 18, 6, 12, 4, 10, 2, 16, 12, 6, 18, 12]\n",
      "Cantidad de números pares encontrados: 55\n"
     ]
    }
   ],
   "source": [
    "import random\n",
    "\n",
    "lista_aleatorios = [random.randint(1, 20) for _ in range(100)]\n",
    "\n",
    "def contar_pares(lista):\n",
    "    pares = [num for num in lista if num % 2 == 0]\n",
    "    cantidad_pares = len(pares)\n",
    "    return cantidad_pares, pares\n",
    "\n",
    "cantidad_pares, lista_pares = contar_pares(lista_aleatorios)\n",
    "\n",
    "print(\"Lista original de números aleatorios:\", lista_aleatorios)\n",
    "print(\"Lista de números pares encontrados:\", lista_pares)\n",
    "print(\"Cantidad de números pares encontrados:\", cantidad_pares)\n"
   ]
  },
  {
   "cell_type": "markdown",
   "metadata": {},
   "source": [
    "### simula el lanzamiento de dos dados y devuelve el valor de ambos dados.\n",
    "Lanzamiento del primer dado\n",
    "Lanzamiento del segundo dado\n",
    "### pide por teclado un número entre 2 y 12, asegurándose de que sea un entero y esté dentro del intervalo."
   ]
  },
  {
   "cell_type": "code",
   "execution_count": 1,
   "metadata": {},
   "outputs": [
    {
     "name": "stdout",
     "output_type": "stream",
     "text": [
      "Valor de los dados lanzados: 5 y 3 (Suma: 8)\n",
      "No ha adivinado la suma de los dados. El valor correcto era 8.\n"
     ]
    }
   ],
   "source": [
    "import random\n",
    "\n",
    "def lanzar_dados():\n",
    "    dado1 = random.randint(1, 6)\n",
    "    dado2 = random.randint(1, 6)\n",
    "    return dado1, dado2\n",
    "\n",
    "def pedir_numero():\n",
    "    while True:\n",
    "        try:\n",
    "            numero = int(input(\"Ingrese un número entre 2 y 12: \"))\n",
    "            if 2 <= numero <= 12:\n",
    "                return numero\n",
    "            else:\n",
    "                print(\"El número debe estar entre 2 y 12. Intente de nuevo.\")\n",
    "        except ValueError:\n",
    "            print(\"Debe ingresar un número entero. Intente de nuevo.\")\n",
    "\n",
    "def main():\n",
    "    dado1, dado2 = lanzar_dados()\n",
    "    suma_dados = dado1 + dado2\n",
    "    print(f\"Valor de los dados lanzados: {dado1} y {dado2} (Suma: {suma_dados})\")\n",
    "    \n",
    "    numero_usuario = pedir_numero()\n",
    "    \n",
    "    if numero_usuario == suma_dados:\n",
    "        print(\"¡Ha adivinado correctamente la suma de los dos dados!\")\n",
    "    else:\n",
    "        print(f\"No ha adivinado la suma de los dados. El valor correcto era {suma_dados}.\")\n",
    "\n",
    "if __name__ == \"__main__\":\n",
    "    main()\n"
   ]
  }
 ],
 "metadata": {
  "kernelspec": {
   "display_name": "Python 3",
   "language": "python",
   "name": "python3"
  },
  "language_info": {
   "codemirror_mode": {
    "name": "ipython",
    "version": 3
   },
   "file_extension": ".py",
   "mimetype": "text/x-python",
   "name": "python",
   "nbconvert_exporter": "python",
   "pygments_lexer": "ipython3",
   "version": "3.11.9"
  }
 },
 "nbformat": 4,
 "nbformat_minor": 2
}

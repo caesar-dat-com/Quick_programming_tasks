{
 "cells": [
  {
   "cell_type": "markdown",
   "metadata": {},
   "source": [
    "El programa solicita al usuario que ingrese dos números enteros, n1 y n2,asegurándose de que n1 sea mayor o igual a 0 y n2 sea mayor que n1 y también mayor o igual a 0, mediante un bucle que se repite hasta cumplir estas condiciones. Si la entrada no es válida, se muestran mensajes de error correspondientes. Una vez validados los números, calcula la suma de todos los números pares en el rango entre n1 y n2 (ambos incluidos) y muestra al usuario tanto los números ingresados como el resultado de la suma, proporcionando así un feedback claro y directo sobre el proceso y su resultado."
   ]
  },
  {
   "cell_type": "markdown",
   "metadata": {},
   "source": [
    "Función sumar_pares_entre_numeros\n",
    "    Repetir indefinidamente\n",
    "        Intentar\n",
    "            Pedir al usuario el primer número (n1) con el mensaje \"Ingresa el primer número (n1), mayor o igual a 0: \"\n",
    "            n1 = Convertir la entrada del usuario a entero\n",
    "\n",
    "            Pedir al usuario el segundo número (n2) con el mensaje \"Ingresa el segundo número (n2), mayor que n1 y mayor o igual a 0: \"\n",
    "            n2 = Convertir la entrada del usuario a entero\n",
    "\n",
    "            Si n1 >= 0 Y n2 > n1 Entonces\n",
    "                Salir del bucle\n",
    "            Sino\n",
    "                Mostrar \"Error: Asegúrate de que n1 sea menor que n2 y ambos sean mayores o iguales a cero.\"\n",
    "        Capturar ValorNoValido\n",
    "            Mostrar \"Por favor, ingresa solo números enteros.\"\n",
    "    \n",
    "    Inicializar suma_de_pares a 0\n",
    "    Para cada número i desde n1 hasta n2 inclusive\n",
    "        Si i módulo 2 es igual a 0 Entonces\n",
    "            Sumar i a suma_de_pares\n",
    "\n",
    "    Mostrar \"Los números ingresados son: n1 = \", n1, \", n2 = \", n2, \".\"\n",
    "    Mostrar \"La suma de los números pares entre ellos es: \", suma_de_pares\n",
    "\n",
    "Fin Función\n",
    "\n",
    "Llamar a sumar_pares_entre_numeros para ejecutar el programa\n"
   ]
  },
  {
   "cell_type": "code",
   "execution_count": 18,
   "metadata": {},
   "outputs": [
    {
     "name": "stdout",
     "output_type": "stream",
     "text": [
      "Los números ingresados son: n1 = 3, n2 = 4.\n",
      "La suma de los números pares entre ellos es: 4\n"
     ]
    }
   ],
   "source": [
    "def sum_of_evens_between_numbers():\n",
    "    # Starts an infinite loop to ask the user for the numbers n1 and n2.\n",
    "    while True:\n",
    "        try:\n",
    "            # Tries to convert the user's input to integers.\n",
    "            n1 = int(input(\"Enter the first number (n1), greater than or equal to 0: \"))\n",
    "            n2 = int(input(\"Enter the second number (n2), greater than n1 and greater than or equal to 0: \"))\n",
    "            \n",
    "            # Checks if n1 is less than n2 and both are greater than or equal to zero.\n",
    "            if n1 >= 0 and n2 > n1:\n",
    "                break  # If the conditions are met, exits the loop.\n",
    "            else:\n",
    "                # If n1 is not less than n2 or any is not greater than or equal to zero, displays an error message.\n",
    "                print(\"Error: Ensure that n1 is less than n2 and both are greater than or equal to zero.\")\n",
    "        except ValueError:\n",
    "            # If the input cannot be converted to an integer, displays an error message.\n",
    "            print(\"Please, enter integers only.\")\n",
    "\n",
    "    # Calculates the sum of all even numbers between n1 and n2, including them.\n",
    "    sum_of_evens = sum(i for i in range(n1, n2 + 1) if i % 2 == 0)\n",
    "\n",
    "    # Prints the entered numbers and the calculated sum of the evens between them.\n",
    "    print(f\"The entered numbers are: n1 = {n1}, n2 = {n2}.\")\n",
    "    print(f\"The sum of the even numbers between them is: {sum_of_evens}\")\n",
    "\n",
    "# Calls the defined function to run the program.\n",
    "sum_of_evens_between_numbers()\n"
   ]
  }
 ],
 "metadata": {
  "kernelspec": {
   "display_name": "Python 3",
   "language": "python",
   "name": "python3"
  },
  "language_info": {
   "codemirror_mode": {
    "name": "ipython",
    "version": 3
   },
   "file_extension": ".py",
   "mimetype": "text/x-python",
   "name": "python",
   "nbconvert_exporter": "python",
   "pygments_lexer": "ipython3",
   "version": "3.11.8"
  }
 },
 "nbformat": 4,
 "nbformat_minor": 2
}

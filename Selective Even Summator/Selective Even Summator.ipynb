{
 "cells": [
  {
   "cell_type": "code",
   "execution_count": 16,
   "metadata": {},
   "outputs": [],
   "source": [
    "def suma_pares_entre_numeros():\n",
    "    while True:\n",
    "        # Pedir los números n1 y n2 al usuario\n",
    "        n1 = int(input(\"Ingrese el primer número (n1), mayor o igual a 0: \"))\n",
    "        n2 = int(input(\"Ingrese el segundo número (n2), mayor que n1 y mayor o igual a 0: \"))\n",
    "        \n",
    "        # Validar que n1 < n2 y ambos >= 0\n",
    "        if n1 >= 0 and n2 >= 0 and n1 < n2:\n",
    "            break\n",
    "        else:\n",
    "            print(\"Por favor, asegúrese de que n1 sea menor que n2 y ambos mayores o iguales a cero.\")\n",
    "\n",
    "    # Calcular la suma de los números pares entre n1 y n2, incluyéndolos\n",
    "    suma_pares = sum(i for i in range(n1, n2 + 1) if i % 2 == 0)\n",
    "\n",
    "    # Mostrar los números ingresados y la suma de los pares\n",
    "    print(f\"Los números ingresados son: n1 = {n1}, n2 = {n2}\")\n",
    "    print(f\"La suma de los números pares entre ellos es: {suma_pares}\")\n"
   ]
  }
 ],
 "metadata": {
  "kernelspec": {
   "display_name": "Python 3",
   "language": "python",
   "name": "python3"
  },
  "language_info": {
   "codemirror_mode": {
    "name": "ipython",
    "version": 3
   },
   "file_extension": ".py",
   "mimetype": "text/x-python",
   "name": "python",
   "nbconvert_exporter": "python",
   "pygments_lexer": "ipython3",
   "version": "3.11.8"
  }
 },
 "nbformat": 4,
 "nbformat_minor": 2
}

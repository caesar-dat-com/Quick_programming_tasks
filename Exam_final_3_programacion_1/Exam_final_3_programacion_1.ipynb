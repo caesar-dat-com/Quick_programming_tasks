{
 "cells": [
  {
   "cell_type": "markdown",
   "metadata": {},
   "source": [
    "# Genere un arreglo de numpy llamado x que contenga valores entre -8 y 8 (ambos incluidos) con valores cada 0.1."
   ]
  },
  {
   "cell_type": "code",
   "execution_count": 1,
   "metadata": {},
   "outputs": [
    {
     "name": "stdout",
     "output_type": "stream",
     "text": [
      "Primeros valores de x: [-8.  -7.9 -7.8 -7.7 -7.6 -7.5 -7.4 -7.3 -7.2 -7.1]\n",
      "Últimos valores de x: [7.1 7.2 7.3 7.4 7.5 7.6 7.7 7.8 7.9 8. ]\n"
     ]
    }
   ],
   "source": [
    "import numpy as np\n",
    "x = np.arange(-8, 8.1, 0.1)\n",
    "\n",
    "print(\"Primeros valores de x:\", x[:10])\n",
    "print(\"Últimos valores de x:\", x[-10:])\n"
   ]
  },
  {
   "cell_type": "markdown",
   "metadata": {},
   "source": [
    "# Implemente dos funciones de Python que reciban el arreglo x y cada una devuelva un arreglo de numpy con los valores correspondientes a:"
   ]
  },
  {
   "cell_type": "code",
   "execution_count": 2,
   "metadata": {},
   "outputs": [
    {
     "name": "stdout",
     "output_type": "stream",
     "text": [
      "Valores de f1(x): [-512.    -493.039 -474.552 -456.533 -438.976 -421.875 -405.224 -389.017\n",
      " -373.248 -357.911]\n"
     ]
    }
   ],
   "source": [
    "import numpy as np\n",
    "\n",
    "def f1(x):\n",
    "    return x**3\n",
    "x = np.arange(-8, 8.1, 0.1) \n",
    "f1_values = f1(x)\n",
    "\n",
    "print(\"Valores de f1(x):\", f1_values[:10]) \n"
   ]
  },
  {
   "cell_type": "markdown",
   "metadata": {},
   "source": [
    "# f2(x)"
   ]
  },
  {
   "cell_type": "code",
   "execution_count": 4,
   "metadata": {},
   "outputs": [
    {
     "name": "stdout",
     "output_type": "stream",
     "text": [
      "Valores de f2(x): [-0.99999977 -0.99999973 -0.99999966 -0.99999959 -0.9999995  -0.99999939\n",
      " -0.99999925 -0.99999909 -0.99999889 -0.99999864]\n"
     ]
    }
   ],
   "source": [
    "import numpy as np\n",
    "\n",
    "def f2(x):\n",
    "    return (np.exp(x) - np.exp(-x)) / (np.exp(x) + np.exp(-x))\n",
    "x = np.arange(-8, 8.1, 0.1)\n",
    "f2_values = f2(x)\n",
    "\n",
    "print(\"Valores de f2(x):\", f2_values[:10])"
   ]
  },
  {
   "cell_type": "markdown",
   "metadata": {},
   "source": [
    "# Cree un DataFrame con tres columnas: x, f1, f2. Guarde en cada columna los valores correspondientes."
   ]
  },
  {
   "cell_type": "code",
   "execution_count": 5,
   "metadata": {},
   "outputs": [
    {
     "name": "stdout",
     "output_type": "stream",
     "text": [
      "       x       f1        f2\n",
      "0   -8.0 -512.000 -1.000000\n",
      "1   -7.9 -493.039 -1.000000\n",
      "2   -7.8 -474.552 -1.000000\n",
      "3   -7.7 -456.533 -1.000000\n",
      "4   -7.6 -438.976 -0.999999\n",
      "..   ...      ...       ...\n",
      "156  7.6  438.976  0.999999\n",
      "157  7.7  456.533  1.000000\n",
      "158  7.8  474.552  1.000000\n",
      "159  7.9  493.039  1.000000\n",
      "160  8.0  512.000  1.000000\n",
      "\n",
      "[161 rows x 3 columns]\n",
      "Número de observaciones en el DataFrame: 161\n"
     ]
    }
   ],
   "source": [
    "import numpy as np\n",
    "import pandas as pd\n",
    "\n",
    "def f1(x):\n",
    "    return x**3\n",
    "\n",
    "def f2(x):\n",
    "    return (np.exp(x) - np.exp(-x)) / (np.exp(x) + np.exp(-x))\n",
    "x = np.arange(-8, 8.1, 0.1)\n",
    "f1_values = f1(x)\n",
    "f2_values = f2(x)\n",
    "df = pd.DataFrame({\n",
    "    'x': x,\n",
    "    'f1': f1_values,\n",
    "    'f2': f2_values\n",
    "})\n",
    "print(df)\n",
    "print(\"Número de observaciones en el DataFrame:\", len(df))\n"
   ]
  },
  {
   "cell_type": "markdown",
   "metadata": {},
   "source": [
    "# Implemente una función Python que reciba el DataFrame y muestre el valor mínimo, máximo, la media y la mediana de cada uno de los Atributos."
   ]
  },
  {
   "cell_type": "code",
   "execution_count": 7,
   "metadata": {},
   "outputs": [
    {
     "name": "stdout",
     "output_type": "stream",
     "text": [
      "Estadísticas para x:\n",
      "  Mínimo: -8.0\n",
      "  Máximo: 7.999999999999943\n",
      "  Media: -2.859824178711459e-14\n",
      "  Mediana: -2.842170943040401e-14\n",
      "\n",
      "Estadísticas para f1:\n",
      "  Mínimo: -512.0\n",
      "  Máximo: 511.9999999999891\n",
      "  Media: -1.8302874743753337e-12\n",
      "  Mediana: -2.2958874039497803e-41\n",
      "\n",
      "Estadísticas para f2:\n",
      "  Mínimo: -0.9999997749296758\n",
      "  Máximo: 0.999999774929676\n",
      "  Media: -3.442380955856386e-15\n",
      "  Mediana: -2.842170943040401e-14\n",
      "\n"
     ]
    }
   ],
   "source": [
    "import pandas as pd\n",
    "\n",
    "def describe_dataframe(df):\n",
    "\n",
    "    descriptions = {}\n",
    "    for column in df.columns:\n",
    "        descriptions[column] = {\n",
    "            'Mínimo': df[column].min(),\n",
    "            'Máximo': df[column].max(),\n",
    "            'Media': df[column].mean(),\n",
    "            'Mediana': df[column].median()\n",
    "        }\n",
    "\n",
    "    for column, stats in descriptions.items():\n",
    "        print(f\"Estadísticas para {column}:\")\n",
    "        for stat_name, stat_value in stats.items():\n",
    "            print(f\"  {stat_name}: {stat_value}\")\n",
    "        print()\n",
    "\n",
    "\n",
    "x = np.arange(-8, 8.1, 0.1)\n",
    "f1_values = x**3\n",
    "f2_values = np.tanh(x)\n",
    "\n",
    "df = pd.DataFrame({\n",
    "    'x': x,\n",
    "    'f1': f1_values,\n",
    "    'f2': f2_values\n",
    "})\n",
    "\n",
    "describe_dataframe(df)\n",
    "\n"
   ]
  },
  {
   "cell_type": "markdown",
   "metadata": {},
   "source": [
    "# Implemente una función Python que reciba el DataFrame y un número entre 1 y 4:\n",
    "\n",
    "- Si el número recibido es diferente a 1, 2, 3 o 4, debe indicarlo y no debe hacer nada.\n",
    "- Si el número es 1, debe graficar `f1`.\n",
    "- Si el número es 2, debe graficar `f2`.\n",
    "- Si el número es 3, debe graficar `f1` y `f2` en la misma gráfica.\n",
    "- Si el número es 4, debe graficar la diferencia `f1 - f2`.\n"
   ]
  },
  {
   "cell_type": "code",
   "execution_count": 9,
   "metadata": {},
   "outputs": [
    {
     "data": {
      "image/png": "[encoded data removed]",
      "text/plain": [
       "<Figure size 1000x600 with 1 Axes>"
      ]
     },
     "metadata": {},
     "output_type": "display_data"
    }
   ],
   "source": [
    "import matplotlib.pyplot as plt\n",
    "def plot_functions(df, number):\n",
    "    if number not in [1, 2, 3, 4]:\n",
    "        print(\"Número inválido. Por favor ingrese un número entre 1 y 4.\")\n",
    "        return\n",
    "    plt.figure(figsize=(10, 6))\n",
    "    if number == 1:\n",
    "        plt.plot(df['x'], df['f1'], label='f1(x) = x^3', color='blue')\n",
    "        plt.title(\"Gráfica de f1(x) = x^3\")\n",
    "    elif number == 2:\n",
    "        plt.plot(df['x'], df['f2'], label='f2(x) = tanh(x)', color='red')\n",
    "        plt.title(\"Gráfica de f2(x) = tanh(x)\")\n",
    "    elif number == 3:\n",
    "        plt.plot(df['x'], df['f1'], label='f1(x) = x^3', color='blue')\n",
    "        plt.plot(df['x'], df['f2'], label='f2(x) = tanh(x)', color='red')\n",
    "        plt.title(\"Gráfica de f1(x) y f2(x)\")\n",
    "    elif number == 4:\n",
    "        plt.plot(df['x'], df['f1'] - df['f2'], label='f1(x) - f2(x)', color='green')\n",
    "        plt.title(\"Gráfica de la diferencia f1(x) - f2(x)\")\n",
    "\n",
    "    plt.xlabel(\"x\")\n",
    "    plt.ylabel(\"Valor de la función\")\n",
    "    plt.legend()\n",
    "    plt.grid(True)\n",
    "    plt.show()\n",
    "\n",
    "plot_functions(df, 1)\n"
   ]
  },
  {
   "cell_type": "markdown",
   "metadata": {},
   "source": [
    "# Implemente una función Python que reciba el DataFrame y muestre todos los valores donde f1(x) = f2(x) y los valores de x dónde esto sucede."
   ]
  },
  {
   "cell_type": "code",
   "execution_count": 10,
   "metadata": {},
   "outputs": [
    {
     "name": "stdout",
     "output_type": "stream",
     "text": [
      "Valores donde f1(x) = f2(x):\n",
      "               x            f1            f2\n",
      "80 -2.842171e-14 -2.295887e-41 -2.842171e-14\n"
     ]
    }
   ],
   "source": [
    "import numpy as np\n",
    "import pandas as pd\n",
    "\n",
    "def find_equal_f1_f2(df):\n",
    "    mask = np.isclose(df['f1'], df['f2'], atol=1e-8)\n",
    "    result = df[mask]\n",
    "\n",
    "    if result.empty:\n",
    "        print(\"No hay valores donde f1(x) = f2(x).\")\n",
    "    else:\n",
    "        print(\"Valores donde f1(x) = f2(x):\")\n",
    "        print(result[['x', 'f1', 'f2']])\n",
    "x = np.arange(-8, 8.1, 0.1)\n",
    "f1_values = x**3\n",
    "f2_values = np.tanh(x)\n",
    "\n",
    "df = pd.DataFrame({\n",
    "    'x': x,\n",
    "    'f1': f1_values,\n",
    "    'f2': f2_values\n",
    "})\n",
    "find_equal_f1_f2(df)\n"
   ]
  }
 ],
 "metadata": {
  "kernelspec": {
   "display_name": "Python 3",
   "language": "python",
   "name": "python3"
  },
  "language_info": {
   "codemirror_mode": {
    "name": "ipython",
    "version": 3
   },
   "file_extension": ".py",
   "mimetype": "text/x-python",
   "name": "python",
   "nbconvert_exporter": "python",
   "pygments_lexer": "ipython3",
   "version": "3.11.9"
  }
 },
 "nbformat": 4,
 "nbformat_minor": 2
}

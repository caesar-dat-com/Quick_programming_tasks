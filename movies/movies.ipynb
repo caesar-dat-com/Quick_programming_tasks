{
 "cells": [
  {
   "cell_type": "markdown",
   "metadata": {},
   "source": [
    "(0.2) Cargue el conjunto de datos en un dataframe y consigne una descripción breve de \n",
    "cada uno de los atributos (la descripción en español)."
   ]
  },
  {
   "cell_type": "code",
   "execution_count": 1,
   "metadata": {},
   "outputs": [
    {
     "name": "stdout",
     "output_type": "stream",
     "text": [
      "name         object\n",
      "rating       object\n",
      "genre        object\n",
      "year          int64\n",
      "released     object\n",
      "score       float64\n",
      "votes       float64\n",
      "director     object\n",
      "writer       object\n",
      "star         object\n",
      "country      object\n",
      "budget      float64\n",
      "gross       float64\n",
      "company      object\n",
      "runtime     float64\n",
      "dtype: object\n"
     ]
    }
   ],
   "source": [
    "import pandas as pd\n",
    "\n",
    "file_path = r\"C:\\Users\\cesar\\Desktop\\platzi\\Quick_programming_tasks\\movies\\movies.csv\"\n",
    "data = pd.read_csv(file_path)\n",
    "print(data.dtypes)"
   ]
  },
  {
   "cell_type": "markdown",
   "metadata": {},
   "source": [
    "0.2) Indique cuántas observaciones y cuántos atributos tiene el conjunto de datos."
   ]
  },
  {
   "cell_type": "code",
   "execution_count": 2,
   "metadata": {},
   "outputs": [
    {
     "name": "stdout",
     "output_type": "stream",
     "text": [
      "Número de observaciones: 7668\n",
      "Número de atributos: 15\n"
     ]
    }
   ],
   "source": [
    "import pandas as pd\n",
    "\n",
    "file_path = r\"C:\\Users\\cesar\\Desktop\\platzi\\Quick_programming_tasks\\movies\\movies.csv\"\n",
    "\n",
    "data = pd.read_csv(file_path)\n",
    "\n",
    "num_observaciones = len(data)\n",
    "num_atributos = len(data.columns)\n",
    "\n",
    "print(\"Número de observaciones:\", num_observaciones)\n",
    "print(\"Número de atributos:\", num_atributos)\n"
   ]
  },
  {
   "cell_type": "markdown",
   "metadata": {},
   "source": [
    "0.2) Cree un nuevo dataframe con el género que se la ha asignado e indique cuántas \n",
    "películas hay de ese género."
   ]
  },
  {
   "cell_type": "code",
   "execution_count": 3,
   "metadata": {},
   "outputs": [
    {
     "name": "stdout",
     "output_type": "stream",
     "text": [
      "                           name rating  genre  year  \\\n",
      "0                   The Shining      R  Drama  1980   \n",
      "13              Ordinary People      R  Drama  1980   \n",
      "15            Somewhere in Time     PG  Drama  1980   \n",
      "16                         Fame      R  Drama  1980   \n",
      "24                 Urban Cowboy     PG  Drama  1980   \n",
      "...                         ...    ...    ...   ...   \n",
      "7658  Black Wall Street Burning      R  Drama  2020   \n",
      "7661           Love by Drowning      R  Drama  2020   \n",
      "7663               More to Life    NaN  Drama  2020   \n",
      "7665              Saving Mbango    NaN  Drama  2020   \n",
      "7666               It's Just Us    NaN  Drama  2020   \n",
      "\n",
      "                                released  score     votes           director  \\\n",
      "0          June 13, 1980 (United States)    8.4  927000.0    Stanley Kubrick   \n",
      "13    September 19, 1980 (United States)    7.7   49000.0     Robert Redford   \n",
      "15       October 3, 1980 (United States)    7.2   27000.0     Jeannot Szwarc   \n",
      "16          May 16, 1980 (United States)    6.6   21000.0        Alan Parker   \n",
      "24          June 6, 1980 (United States)    6.4   14000.0      James Bridges   \n",
      "...                                  ...    ...       ...                ...   \n",
      "7658    February 7, 2020 (United States)    6.6      35.0       Marcus Brown   \n",
      "7661    November 6, 2020 (United States)    NaN       NaN  Justin Kreinbrink   \n",
      "7663    October 23, 2020 (United States)    3.1      18.0      Joseph Ebanks   \n",
      "7665           April 27, 2020 (Cameroon)    5.7      29.0       Nkanya Nkwai   \n",
      "7666     October 1, 2020 (United States)    NaN       NaN      James Randall   \n",
      "\n",
      "                writer               star         country      budget  \\\n",
      "0         Stephen King     Jack Nicholson  United Kingdom  19000000.0   \n",
      "13        Judith Guest  Donald Sutherland   United States   6000000.0   \n",
      "15    Richard Matheson  Christopher Reeve   United States   5100000.0   \n",
      "16    Christopher Gore        Eddie Barth   United States         NaN   \n",
      "24        Aaron Latham      John Travolta   United States         NaN   \n",
      "...                ...                ...             ...         ...   \n",
      "7658   Dekoven Riggins        Dan Belcher   United States      5000.0   \n",
      "7661     C.E. Poverman       Nicky Whelan   United States   1000000.0   \n",
      "7663     Joseph Ebanks       Shannon Bond   United States      7000.0   \n",
      "7665      Lynno Lovert       Onyama Laura   United States     58750.0   \n",
      "7666     James Randall      Christina Roz   United States     15000.0   \n",
      "\n",
      "           gross                    company  runtime  \n",
      "0     46998772.0               Warner Bros.    146.0  \n",
      "13    54766923.0         Paramount Pictures    124.0  \n",
      "15     9709597.0            Rastar Pictures    103.0  \n",
      "16    21202829.0  Metro-Goldwyn-Mayer (MGM)    134.0  \n",
      "24    46918287.0         Paramount Pictures    132.0  \n",
      "...          ...                        ...      ...  \n",
      "7658         NaN               Notis Studio     78.0  \n",
      "7661         NaN             Dow Jazz Films    121.0  \n",
      "7663         NaN                        NaN     90.0  \n",
      "7665         NaN           Embi Productions      NaN  \n",
      "7666         NaN                        NaN    120.0  \n",
      "\n",
      "[1518 rows x 15 columns]\n",
      "Número de observaciones de 'Drama': 1518\n",
      "Número de atributos: 15\n"
     ]
    }
   ],
   "source": [
    "import pandas as pd\n",
    "\n",
    "\n",
    "file_path = r\"C:\\Users\\cesar\\Desktop\\platzi\\Quick_programming_tasks\\movies\\movies.csv\"\n",
    "data = pd.read_csv(file_path)\n",
    "drama_data = data[data['genre'] == 'Drama']\n",
    "\n",
    "\n",
    "print(drama_data)\n",
    "\n",
    "\n",
    "num_observaciones = len(drama_data)\n",
    "num_atributos = len(drama_data.columns)\n",
    "\n",
    "print(\"Número de observaciones de 'Drama':\", num_observaciones)\n",
    "print(\"Número de atributos:\", num_atributos)\n"
   ]
  },
  {
   "cell_type": "code",
   "execution_count": 4,
   "metadata": {},
   "outputs": [
    {
     "name": "stdout",
     "output_type": "stream",
     "text": [
      "Primeras filas de los datos de películas de género 'Drama':\n",
      "             name rating genre  year                           released  score    votes        director           writer              star        country     budget      gross                   company  runtime\n",
      "      The Shining      R Drama  1980      June 13, 1980 (United States)    8.4 927000.0 Stanley Kubrick     Stephen King    Jack Nicholson United Kingdom 19000000.0 46998772.0              Warner Bros.    146.0\n",
      "  Ordinary People      R Drama  1980 September 19, 1980 (United States)    7.7  49000.0  Robert Redford     Judith Guest Donald Sutherland  United States  6000000.0 54766923.0        Paramount Pictures    124.0\n",
      "Somewhere in Time     PG Drama  1980    October 3, 1980 (United States)    7.2  27000.0  Jeannot Szwarc Richard Matheson Christopher Reeve  United States  5100000.0  9709597.0           Rastar Pictures    103.0\n",
      "             Fame      R Drama  1980       May 16, 1980 (United States)    6.6  21000.0     Alan Parker Christopher Gore       Eddie Barth  United States        NaN 21202829.0 Metro-Goldwyn-Mayer (MGM)    134.0\n",
      "     Urban Cowboy     PG Drama  1980       June 6, 1980 (United States)    6.4  14000.0   James Bridges     Aaron Latham     John Travolta  United States        NaN 46918287.0        Paramount Pictures    132.0\n",
      "\n",
      "Número de observaciones de 'Drama': 1518\n",
      "Número de atributos: 15\n"
     ]
    }
   ],
   "source": [
    "import pandas as pd\n",
    "\n",
    "file_path = r\"C:\\Users\\cesar\\Desktop\\platzi\\Quick_programming_tasks\\movies\\movies.csv\"\n",
    "data = pd.read_csv(file_path)\n",
    "drama_data = data[data['genre'] == 'Drama']\n",
    "\n",
    "print(\"Primeras filas de los datos de películas de género 'Drama':\")\n",
    "print(drama_data.head().to_string(index=False))\n",
    "\n",
    "num_observaciones = len(drama_data)\n",
    "num_atributos = len(drama_data.columns)\n",
    "\n",
    "print(\"\\nNúmero de observaciones de 'Drama':\", num_observaciones)\n",
    "print(\"Número de atributos:\", num_atributos)\n"
   ]
  },
  {
   "cell_type": "markdown",
   "metadata": {},
   "source": [
    "0.4) ¿Qué porcentaje de películas del género asignado tiene el conjunto de datos?"
   ]
  },
  {
   "cell_type": "code",
   "execution_count": null,
   "metadata": {},
   "outputs": [],
   "source": []
  }
 ],
 "metadata": {
  "kernelspec": {
   "display_name": "Python 3",
   "language": "python",
   "name": "python3"
  },
  "language_info": {
   "codemirror_mode": {
    "name": "ipython",
    "version": 3
   },
   "file_extension": ".py",
   "mimetype": "text/x-python",
   "name": "python",
   "nbconvert_exporter": "python",
   "pygments_lexer": "ipython3",
   "version": "3.11.9"
  }
 },
 "nbformat": 4,
 "nbformat_minor": 2
}

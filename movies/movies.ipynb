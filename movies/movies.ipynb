{
 "cells": [
  {
   "cell_type": "code",
   "execution_count": 47,
   "metadata": {},
   "outputs": [],
   "source": [
    "import pandas as pd\n",
    "import matplotlib.pyplot as plt\n",
    "import numpy as np"
   ]
  },
  {
   "cell_type": "code",
   "execution_count": 48,
   "metadata": {},
   "outputs": [],
   "source": [
    "file_path = r\"C:\\Users\\cesar\\Desktop\\platzi\\Quick_programming_tasks\\movies\\movies.csv\""
   ]
  },
  {
   "cell_type": "markdown",
   "metadata": {},
   "source": [
    "(0.2) Cargue el conjunto de datos en un dataframe y consigne una descripción breve de \n",
    "cada uno de los atributos (la descripción en español)."
   ]
  },
  {
   "cell_type": "code",
   "execution_count": 49,
   "metadata": {},
   "outputs": [
    {
     "name": "stdout",
     "output_type": "stream",
     "text": [
      "name         object\n",
      "rating       object\n",
      "genre        object\n",
      "year          int64\n",
      "released     object\n",
      "score       float64\n",
      "votes       float64\n",
      "director     object\n",
      "writer       object\n",
      "star         object\n",
      "country      object\n",
      "budget      float64\n",
      "gross       float64\n",
      "company      object\n",
      "runtime     float64\n",
      "dtype: object\n"
     ]
    }
   ],
   "source": [
    "data = pd.read_csv(file_path)\n",
    "print(data.dtypes)"
   ]
  },
  {
   "cell_type": "markdown",
   "metadata": {},
   "source": [
    "0.2) Indique cuántas observaciones y cuántos atributos tiene el conjunto de datos."
   ]
  },
  {
   "cell_type": "code",
   "execution_count": 50,
   "metadata": {},
   "outputs": [
    {
     "name": "stdout",
     "output_type": "stream",
     "text": [
      "Número de observaciones: 7668\n",
      "Número de atributos: 15\n"
     ]
    }
   ],
   "source": [
    "data = pd.read_csv(file_path)\n",
    "\n",
    "num_observaciones = len(data)\n",
    "num_atributos = len(data.columns)\n",
    "\n",
    "print(\"Número de observaciones:\", num_observaciones)\n",
    "print(\"Número de atributos:\", num_atributos)\n"
   ]
  },
  {
   "cell_type": "markdown",
   "metadata": {},
   "source": [
    "0.2) Cree un nuevo dataframe con el género que se la ha asignado e indique cuántas \n",
    "películas hay de ese género."
   ]
  },
  {
   "cell_type": "code",
   "execution_count": 51,
   "metadata": {},
   "outputs": [
    {
     "name": "stdout",
     "output_type": "stream",
     "text": [
      "                           name rating  genre  year  \\\n",
      "0                   The Shining      R  Drama  1980   \n",
      "13              Ordinary People      R  Drama  1980   \n",
      "15            Somewhere in Time     PG  Drama  1980   \n",
      "16                         Fame      R  Drama  1980   \n",
      "24                 Urban Cowboy     PG  Drama  1980   \n",
      "...                         ...    ...    ...   ...   \n",
      "7658  Black Wall Street Burning      R  Drama  2020   \n",
      "7661           Love by Drowning      R  Drama  2020   \n",
      "7663               More to Life    NaN  Drama  2020   \n",
      "7665              Saving Mbango    NaN  Drama  2020   \n",
      "7666               It's Just Us    NaN  Drama  2020   \n",
      "\n",
      "                                released  score     votes           director  \\\n",
      "0          June 13, 1980 (United States)    8.4  927000.0    Stanley Kubrick   \n",
      "13    September 19, 1980 (United States)    7.7   49000.0     Robert Redford   \n",
      "15       October 3, 1980 (United States)    7.2   27000.0     Jeannot Szwarc   \n",
      "16          May 16, 1980 (United States)    6.6   21000.0        Alan Parker   \n",
      "24          June 6, 1980 (United States)    6.4   14000.0      James Bridges   \n",
      "...                                  ...    ...       ...                ...   \n",
      "7658    February 7, 2020 (United States)    6.6      35.0       Marcus Brown   \n",
      "7661    November 6, 2020 (United States)    NaN       NaN  Justin Kreinbrink   \n",
      "7663    October 23, 2020 (United States)    3.1      18.0      Joseph Ebanks   \n",
      "7665           April 27, 2020 (Cameroon)    5.7      29.0       Nkanya Nkwai   \n",
      "7666     October 1, 2020 (United States)    NaN       NaN      James Randall   \n",
      "\n",
      "                writer               star         country      budget  \\\n",
      "0         Stephen King     Jack Nicholson  United Kingdom  19000000.0   \n",
      "13        Judith Guest  Donald Sutherland   United States   6000000.0   \n",
      "15    Richard Matheson  Christopher Reeve   United States   5100000.0   \n",
      "16    Christopher Gore        Eddie Barth   United States         NaN   \n",
      "24        Aaron Latham      John Travolta   United States         NaN   \n",
      "...                ...                ...             ...         ...   \n",
      "7658   Dekoven Riggins        Dan Belcher   United States      5000.0   \n",
      "7661     C.E. Poverman       Nicky Whelan   United States   1000000.0   \n",
      "7663     Joseph Ebanks       Shannon Bond   United States      7000.0   \n",
      "7665      Lynno Lovert       Onyama Laura   United States     58750.0   \n",
      "7666     James Randall      Christina Roz   United States     15000.0   \n",
      "\n",
      "           gross                    company  runtime  \n",
      "0     46998772.0               Warner Bros.    146.0  \n",
      "13    54766923.0         Paramount Pictures    124.0  \n",
      "15     9709597.0            Rastar Pictures    103.0  \n",
      "16    21202829.0  Metro-Goldwyn-Mayer (MGM)    134.0  \n",
      "24    46918287.0         Paramount Pictures    132.0  \n",
      "...          ...                        ...      ...  \n",
      "7658         NaN               Notis Studio     78.0  \n",
      "7661         NaN             Dow Jazz Films    121.0  \n",
      "7663         NaN                        NaN     90.0  \n",
      "7665         NaN           Embi Productions      NaN  \n",
      "7666         NaN                        NaN    120.0  \n",
      "\n",
      "[1518 rows x 15 columns]\n",
      "Número de observaciones de 'Drama': 1518\n",
      "Número de atributos: 15\n"
     ]
    }
   ],
   "source": [
    "data = pd.read_csv(file_path)\n",
    "drama_data = data[data['genre'] == 'Drama']\n",
    "\n",
    "\n",
    "print(drama_data)\n",
    "\n",
    "\n",
    "num_observaciones = len(drama_data)\n",
    "num_atributos = len(drama_data.columns)\n",
    "\n",
    "print(\"Número de observaciones de 'Drama':\", num_observaciones)\n",
    "print(\"Número de atributos:\", num_atributos)\n"
   ]
  },
  {
   "cell_type": "code",
   "execution_count": 52,
   "metadata": {},
   "outputs": [
    {
     "name": "stdout",
     "output_type": "stream",
     "text": [
      "Primeras filas de los datos de películas de género 'Drama':\n",
      "             name rating genre  year                           released  score    votes        director           writer              star        country     budget      gross                   company  runtime\n",
      "      The Shining      R Drama  1980      June 13, 1980 (United States)    8.4 927000.0 Stanley Kubrick     Stephen King    Jack Nicholson United Kingdom 19000000.0 46998772.0              Warner Bros.    146.0\n",
      "  Ordinary People      R Drama  1980 September 19, 1980 (United States)    7.7  49000.0  Robert Redford     Judith Guest Donald Sutherland  United States  6000000.0 54766923.0        Paramount Pictures    124.0\n",
      "Somewhere in Time     PG Drama  1980    October 3, 1980 (United States)    7.2  27000.0  Jeannot Szwarc Richard Matheson Christopher Reeve  United States  5100000.0  9709597.0           Rastar Pictures    103.0\n",
      "             Fame      R Drama  1980       May 16, 1980 (United States)    6.6  21000.0     Alan Parker Christopher Gore       Eddie Barth  United States        NaN 21202829.0 Metro-Goldwyn-Mayer (MGM)    134.0\n",
      "     Urban Cowboy     PG Drama  1980       June 6, 1980 (United States)    6.4  14000.0   James Bridges     Aaron Latham     John Travolta  United States        NaN 46918287.0        Paramount Pictures    132.0\n",
      "\n",
      "Número de observaciones de 'Drama': 1518\n",
      "Número de atributos: 15\n"
     ]
    }
   ],
   "source": [
    "data = pd.read_csv(file_path)\n",
    "drama_data = data[data['genre'] == 'Drama']\n",
    "\n",
    "print(\"Primeras filas de los datos de películas de género 'Drama':\")\n",
    "print(drama_data.head().to_string(index=False))\n",
    "\n",
    "num_observaciones = len(drama_data)\n",
    "num_atributos = len(drama_data.columns)\n",
    "\n",
    "print(\"\\nNúmero de observaciones de 'Drama':\", num_observaciones)\n",
    "print(\"Número de atributos:\", num_atributos)\n"
   ]
  },
  {
   "cell_type": "markdown",
   "metadata": {},
   "source": [
    "0.4) ¿Qué porcentaje de películas del género asignado tiene el conjunto de datos?"
   ]
  },
  {
   "cell_type": "code",
   "execution_count": 53,
   "metadata": {},
   "outputs": [
    {
     "name": "stdout",
     "output_type": "stream",
     "text": [
      "Porcentaje de películas del género 'Drama': 19.80%\n"
     ]
    }
   ],
   "source": [
    "data = pd.read_csv(file_path)\n",
    "total_peliculas = len(data)\n",
    "drama_data = data[data['genre'] == 'Drama']\n",
    "num_dramas = len(drama_data)\n",
    "porcentaje_drama = (num_dramas / total_peliculas) * 100\n",
    "\n",
    "print(f\"Porcentaje de películas del género 'Drama': {porcentaje_drama:.2f}%\")\n"
   ]
  },
  {
   "cell_type": "markdown",
   "metadata": {},
   "source": [
    "# Para el conjunto de películas de los géneros asignados"
   ]
  },
  {
   "cell_type": "markdown",
   "metadata": {},
   "source": [
    "0.4) Determine si hay valores nulos, valores repetidos o algún problema con los tipos \n",
    "de datos. Consigne sus observaciones. "
   ]
  },
  {
   "cell_type": "code",
   "execution_count": 54,
   "metadata": {},
   "outputs": [
    {
     "name": "stdout",
     "output_type": "stream",
     "text": [
      "Valores nulos por columna:\n",
      "name           0\n",
      "rating        77\n",
      "genre          0\n",
      "year           0\n",
      "released       2\n",
      "score          3\n",
      "votes          3\n",
      "director       0\n",
      "writer         3\n",
      "star           1\n",
      "country        3\n",
      "budget      2171\n",
      "gross        189\n",
      "company       17\n",
      "runtime        4\n",
      "dtype: int64\n",
      "\n",
      "Número de registros duplicados en el conjunto de datos: 0\n",
      "\n",
      "Tipos de datos por columna:\n",
      "name         object\n",
      "rating       object\n",
      "genre        object\n",
      "year          int64\n",
      "released     object\n",
      "score       float64\n",
      "votes       float64\n",
      "director     object\n",
      "writer       object\n",
      "star         object\n",
      "country      object\n",
      "budget      float64\n",
      "gross       float64\n",
      "company      object\n",
      "runtime     float64\n",
      "dtype: object\n",
      "\n",
      "Revisión de tipos de datos:\n",
      "Tipo de datos inesperado en columna 'year': int64\n",
      "Tipo de datos inesperado en columna 'score': float64\n",
      "Tipo de datos inesperado en columna 'votes': float64\n",
      "Tipo de datos inesperado en columna 'budget': float64\n",
      "Tipo de datos inesperado en columna 'gross': float64\n",
      "Tipo de datos inesperado en columna 'runtime': float64\n"
     ]
    }
   ],
   "source": [
    "data = pd.read_csv(file_path)\n",
    "\n",
    "valores_nulos = data.isnull().sum()\n",
    "print(\"Valores nulos por columna:\")\n",
    "print(valores_nulos)\n",
    "\n",
    "duplicados = data.duplicated().sum()\n",
    "print(f\"\\nNúmero de registros duplicados en el conjunto de datos: {duplicados}\")\n",
    "\n",
    "tipos_de_datos = data.dtypes\n",
    "print(\"\\nTipos de datos por columna:\")\n",
    "print(tipos_de_datos)\n",
    "print(\"\\nRevisión de tipos de datos:\")\n",
    "for columna, tipo in tipos_de_datos.items():\n",
    "    esperado = 'object'\n",
    "    if str(tipo) != esperado:\n",
    "        print(f\"Tipo de datos inesperado en columna '{columna}': {tipo}\")"
   ]
  },
  {
   "cell_type": "code",
   "execution_count": 55,
   "metadata": {},
   "outputs": [
    {
     "name": "stdout",
     "output_type": "stream",
     "text": [
      "Primeras filas del DataFrame:\n",
      "                                             name rating      genre  year  \\\n",
      "0                                     The Shining      R      Drama  1980   \n",
      "1                                 The Blue Lagoon      R  Adventure  1980   \n",
      "2  Star Wars: Episode V - The Empire Strikes Back     PG     Action  1980   \n",
      "3                                       Airplane!     PG     Comedy  1980   \n",
      "4                                      Caddyshack      R     Comedy  1980   \n",
      "\n",
      "                        released  score      votes         director  \\\n",
      "0  June 13, 1980 (United States)    8.4   927000.0  Stanley Kubrick   \n",
      "1   July 2, 1980 (United States)    5.8    65000.0   Randal Kleiser   \n",
      "2  June 20, 1980 (United States)    8.7  1200000.0   Irvin Kershner   \n",
      "3   July 2, 1980 (United States)    7.7   221000.0     Jim Abrahams   \n",
      "4  July 25, 1980 (United States)    7.3   108000.0     Harold Ramis   \n",
      "\n",
      "                    writer            star         country      budget  \\\n",
      "0             Stephen King  Jack Nicholson  United Kingdom  19000000.0   \n",
      "1  Henry De Vere Stacpoole  Brooke Shields   United States   4500000.0   \n",
      "2           Leigh Brackett     Mark Hamill   United States  18000000.0   \n",
      "3             Jim Abrahams     Robert Hays   United States   3500000.0   \n",
      "4       Brian Doyle-Murray     Chevy Chase   United States   6000000.0   \n",
      "\n",
      "         gross             company  runtime  \n",
      "0   46998772.0        Warner Bros.    146.0  \n",
      "1   58853106.0   Columbia Pictures    104.0  \n",
      "2  538375067.0           Lucasfilm    124.0  \n",
      "3   83453539.0  Paramount Pictures     88.0  \n",
      "4   39846344.0      Orion Pictures     98.0  \n",
      "\n",
      "Valores nulos por columna:\n",
      "name           0\n",
      "rating        77\n",
      "genre          0\n",
      "year           0\n",
      "released       2\n",
      "score          3\n",
      "votes          3\n",
      "director       0\n",
      "writer         3\n",
      "star           1\n",
      "country        3\n",
      "budget      2171\n",
      "gross        189\n",
      "company       17\n",
      "runtime        4\n",
      "dtype: int64\n",
      "\n",
      "Número de registros duplicados en el conjunto de datos: 0\n",
      "\n",
      "Tipos de datos por columna:\n",
      "name         object\n",
      "rating       object\n",
      "genre        object\n",
      "year          int64\n",
      "released     object\n",
      "score       float64\n",
      "votes       float64\n",
      "director     object\n",
      "writer       object\n",
      "star         object\n",
      "country      object\n",
      "budget      float64\n",
      "gross       float64\n",
      "company      object\n",
      "runtime     float64\n",
      "dtype: object\n"
     ]
    },
    {
     "data": {
      "image/png": "[encoded data removed]",
      "text/plain": [
       "<Figure size 1400x700 with 1 Axes>"
      ]
     },
     "metadata": {},
     "output_type": "display_data"
    }
   ],
   "source": [
    "data = pd.read_csv(file_path)\n",
    "\n",
    "print(\"Primeras filas del DataFrame:\")\n",
    "print(data.head())\n",
    "\n",
    "valores_nulos = data.isnull().sum()\n",
    "print(\"\\nValores nulos por columna:\")\n",
    "print(valores_nulos)\n",
    "\n",
    "duplicados = data.duplicated().sum()\n",
    "print(f\"\\nNúmero de registros duplicados en el conjunto de datos: {duplicados}\")\n",
    "\n",
    "tipos_de_datos = data.dtypes\n",
    "print(\"\\nTipos de datos por columna:\")\n",
    "print(tipos_de_datos)\n",
    "\n",
    "drama_data = data[data['genre'] == 'Drama']\n",
    "drama_count_by_year = drama_data['year'].value_counts().sort_index()\n",
    "\n",
    "plt.figure(figsize=(14, 7))\n",
    "plt.bar(drama_count_by_year.index, drama_count_by_year.values, color='skyblue')\n",
    "plt.title('Número de Películas de Drama por Año')\n",
    "plt.xlabel('Año')\n",
    "plt.ylabel('Número de Películas de Drama')\n",
    "plt.grid(True)\n",
    "plt.show()\n"
   ]
  },
  {
   "cell_type": "markdown",
   "metadata": {},
   "source": [
    "0.4) ¿Cuál es la película con el mayor presupuesto (budget)? ¿Cuánto es el presupuesto \n",
    "(budget)? ¿Cuánto fue la recaudación (gross) de esa película?"
   ]
  },
  {
   "cell_type": "code",
   "execution_count": 56,
   "metadata": {},
   "outputs": [
    {
     "name": "stdout",
     "output_type": "stream",
     "text": [
      "Película con el mayor presupuesto:\n",
      "                   name       budget         gross\n",
      "7445  Avengers: Endgame  356000000.0  2.797501e+09\n"
     ]
    }
   ],
   "source": [
    "data = pd.read_csv(file_path)\n",
    "max_budget_row = data[data['budget'] == data['budget'].max()]\n",
    "\n",
    "print(\"Película con el mayor presupuesto:\")\n",
    "print(max_budget_row[['name', 'budget', 'gross']])\n"
   ]
  },
  {
   "cell_type": "markdown",
   "metadata": {},
   "source": [
    "0.4) ¿Cuál es la película con el menor presupuesto (budget)? ¿Cuánto es el presupuesto \n",
    "(budget)? ¿Cuánto fue la recaudación (gross) de esa película? "
   ]
  },
  {
   "cell_type": "code",
   "execution_count": 57,
   "metadata": {},
   "outputs": [
    {
     "name": "stdout",
     "output_type": "stream",
     "text": [
      "Película con el menor presupuesto:\n",
      "                            name  budget  gross\n",
      "471  A Polish Vampire in Burbank  3000.0    NaN\n"
     ]
    }
   ],
   "source": [
    "\n",
    "data = pd.read_csv(file_path)\n",
    "data = data.dropna(subset=['budget'])\n",
    "min_budget_row = data[data['budget'] == data['budget'].min()]\n",
    "\n",
    "print(\"Película con el menor presupuesto:\")\n",
    "print(min_budget_row[['name', 'budget', 'gross']])"
   ]
  },
  {
   "cell_type": "markdown",
   "metadata": {},
   "source": [
    "0.4) ¿Cuál es la película con la mayor recaudación (gross)? ¿Cuánto fue la recaudación \n",
    "(gross) de esa película? ¿Cuánto fue su presupuesto (budget)? "
   ]
  },
  {
   "cell_type": "code",
   "execution_count": 58,
   "metadata": {},
   "outputs": [
    {
     "name": "stdout",
     "output_type": "stream",
     "text": [
      "Película con la mayor recaudación:\n",
      "        name         gross       budget\n",
      "5445  Avatar  2.847246e+09  237000000.0\n"
     ]
    }
   ],
   "source": [
    "data = pd.read_csv(file_path)\n",
    "max_gross_row = data[data['gross'] == data['gross'].max()]\n",
    "\n",
    "\n",
    "print(\"Película con la mayor recaudación:\")\n",
    "print(max_gross_row[['name', 'gross', 'budget']])"
   ]
  },
  {
   "cell_type": "markdown",
   "metadata": {},
   "source": [
    "0.4) ¿Cuál es la película con la mayor recaudación (gross)? ¿Cuánto fue la recaudación \n",
    "(gross) de esa película? ¿Cuánto fue su presupuesto (budget)? \n"
   ]
  },
  {
   "cell_type": "code",
   "execution_count": 59,
   "metadata": {},
   "outputs": [
    {
     "name": "stdout",
     "output_type": "stream",
     "text": [
      "Película con la mayor recaudación:\n",
      "        name         gross       budget\n",
      "5445  Avatar  2.847246e+09  237000000.0\n"
     ]
    }
   ],
   "source": [
    "data = pd.read_csv(file_path)\n",
    "max_gross_row = data[data['gross'] == data['gross'].max()]\n",
    "\n",
    "print(\"Película con la mayor recaudación:\")\n",
    "print(max_gross_row[['name', 'gross', 'budget']])"
   ]
  },
  {
   "cell_type": "markdown",
   "metadata": {},
   "source": [
    "0.4) Determine gráficamente el comportamiento de la ganancia (presupuesto – \n",
    "recaudación). ¿Qué película tiene la máxima ganancia y cuál es el valor? ¿Qué película \n",
    "tiene la mínima ganancia y cuál es el valor? "
   ]
  },
  {
   "cell_type": "code",
   "execution_count": 60,
   "metadata": {},
   "outputs": [
    {
     "name": "stdout",
     "output_type": "stream",
     "text": [
      "Película con la máxima ganancia:\n",
      "        name        profit\n",
      "5445  Avatar  2.610246e+09\n",
      "\n",
      "Película con la mínima ganancia:\n",
      "              name       profit\n",
      "7465  The Irishman -158031147.0\n"
     ]
    },
    {
     "data": {
      "image/png": "[encoded data removed]",
      "text/plain": [
       "<Figure size 1200x600 with 1 Axes>"
      ]
     },
     "metadata": {},
     "output_type": "display_data"
    }
   ],
   "source": [
    "data = pd.read_csv(file_path)\n",
    "data = data.dropna(subset=['budget', 'gross'])\n",
    "data['profit'] = data['gross'] - data['budget']\n",
    "\n",
    "max_profit_row = data[data['profit'] == data['profit'].max()]\n",
    "min_profit_row = data[data['profit'] == data['profit'].min()]\n",
    "print(\"Película con la máxima ganancia:\")\n",
    "print(max_profit_row[['name', 'profit']])\n",
    "print(\"\\nPelícula con la mínima ganancia:\")\n",
    "print(min_profit_row[['name', 'profit']])\n",
    "plt.figure(figsize=(12, 6))\n",
    "plt.hist(data['profit'], bins=50, color='blue', alpha=0.7, label='Ganancia')\n",
    "plt.scatter(max_profit_row['profit'], [0], color='red', s=100, label='Máxima Ganancia', edgecolor='black')\n",
    "plt.scatter(min_profit_row['profit'], [0], color='yellow', s=100, label='Mínima Ganancia', edgecolor='black')\n",
    "\n",
    "plt.title('Distribución de Ganancias de Películas')\n",
    "plt.xlabel('Ganancia ($)')\n",
    "plt.ylabel('Frecuencia')\n",
    "plt.legend()\n",
    "plt.grid(True)\n",
    "plt.tight_layout()\n",
    "plt.show()"
   ]
  },
  {
   "cell_type": "markdown",
   "metadata": {},
   "source": [
    "0.5) Indique si la variable duración (runtime) tiene outliers. ¿Cuál es la película con \n",
    "la mayor duración? "
   ]
  },
  {
   "cell_type": "code",
   "execution_count": 61,
   "metadata": {},
   "outputs": [
    {
     "data": {
      "image/png": "[encoded data removed]",
      "text/plain": [
       "<Figure size 1000x600 with 1 Axes>"
      ]
     },
     "metadata": {},
     "output_type": "display_data"
    },
    {
     "name": "stdout",
     "output_type": "stream",
     "text": [
      "\n",
      "Película de Drama con la mayor duración:\n",
      "                   name  runtime\n",
      "4396  The Best of Youth    366.0\n"
     ]
    }
   ],
   "source": [
    "data = pd.read_csv(file_path)\n",
    "drama_data = data[data['genre'] == 'Drama']\n",
    "\n",
    "plt.figure(figsize=(10, 6))\n",
    "plt.boxplot(drama_data['runtime'].dropna(), vert=False) \n",
    "plt.title('Boxplot de Duración de Películas de Drama')\n",
    "plt.xlabel('Duración (Minutos)')\n",
    "plt.show()\n",
    "\n",
    "max_runtime_row = drama_data[drama_data['runtime'] == drama_data['runtime'].max()]\n",
    "\n",
    "print(\"\\nPelícula de Drama con la mayor duración:\")\n",
    "print(max_runtime_row[['name', 'runtime']])"
   ]
  },
  {
   "cell_type": "markdown",
   "metadata": {},
   "source": [
    "0.5) Muestre en una gráfica la distribución de la variable recaudación (gross). \n",
    "Consigne sus observaciones."
   ]
  },
  {
   "cell_type": "code",
   "execution_count": 62,
   "metadata": {},
   "outputs": [
    {
     "data": {
      "image/png": "[encoded data removed]",
      "text/plain": [
       "<Figure size 1200x600 with 1 Axes>"
      ]
     },
     "metadata": {},
     "output_type": "display_data"
    },
    {
     "name": "stdout",
     "output_type": "stream",
     "text": [
      "\n",
      "Observaciones:\n",
      "1. La distribución de la recaudación de películas de Drama parece ser asimétrica hacia la derecha.\n",
      "2. La mayoría de las películas de Drama tienden a tener recaudaciones relativamente bajas.\n",
      "3. Existen unas pocas películas de Drama con recaudaciones muy altas, indicando éxitos significativos.\n"
     ]
    }
   ],
   "source": [
    "data = pd.read_csv(file_path)\n",
    "drama_data = data[data['genre'] == 'Drama']\n",
    "\n",
    "\n",
    "if not drama_data['gross'].dropna().empty:\n",
    "    # Crear la gráfica de la distribución de 'gross'\n",
    "    plt.figure(figsize=(12, 6))\n",
    "    plt.hist(drama_data['gross'].dropna(), bins=30, color='blue', alpha=0.7)\n",
    "    plt.title('Distribución de la Recaudación de Películas de Drama')\n",
    "    plt.xlabel('Recaudación (Gross)')\n",
    "    plt.ylabel('Frecuencia')\n",
    "    plt.grid(True)\n",
    "    plt.show()\n",
    "else:\n",
    "    print(\"No hay suficientes datos de recaudación para películas de Drama para mostrar.\")\n",
    "    \n",
    "print(\"\\nObservaciones:\")\n",
    "print(\"1. La distribución de la recaudación de películas de Drama parece ser asimétrica hacia la derecha.\")\n",
    "print(\"2. La mayoría de las películas de Drama tienden a tener recaudaciones relativamente bajas.\")\n",
    "print(\"3. Existen unas pocas películas de Drama con recaudaciones muy altas, indicando éxitos significativos.\")"
   ]
  },
  {
   "cell_type": "markdown",
   "metadata": {},
   "source": [
    "0.5) Muestre en una gráfica la relación entre la recaudación (gross) y la valoración \n",
    "de los usuarios (score). Consigne sus observaciones."
   ]
  }
 ],
 "metadata": {
  "kernelspec": {
   "display_name": "Python 3",
   "language": "python",
   "name": "python3"
  },
  "language_info": {
   "codemirror_mode": {
    "name": "ipython",
    "version": 3
   },
   "file_extension": ".py",
   "mimetype": "text/x-python",
   "name": "python",
   "nbconvert_exporter": "python",
   "pygments_lexer": "ipython3",
   "version": "3.11.9"
  }
 },
 "nbformat": 4,
 "nbformat_minor": 2
}

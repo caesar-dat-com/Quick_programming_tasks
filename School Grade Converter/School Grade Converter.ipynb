{
 "cells": [
  {
   "cell_type": "markdown",
   "metadata": {},
   "source": [
    "El programa solicita al usuario una puntuación de prueba entre 0 y 100, repitiendo la solicitud hasta obtener un valor válido. Convierte la puntuación en una calificación (A, B, C, D, o F) según rangos predefinidos y muestra esta calificación. Utiliza un bucle y manejo de errores para asegurar entradas numéricas válidas y termina tras asignar la calificación adecuada."
   ]
  },
  {
   "cell_type": "markdown",
   "metadata": {},
   "source": [
    "Función convertir_puntuacion_a_calificacion()\n",
    "    Mientras Verdadero\n",
    "        Intentar\n",
    "            # Solicitar la puntuación del usuario\n",
    "            puntuacion = leer entrada del usuario (\"Por favor, introduce tu puntuación de examen (0-100): \")\n",
    "\n",
    "            # Validar la puntuación\n",
    "            Si puntuacion < 0 o puntuacion > 100 Entonces\n",
    "                imprimir(\"Puntuación inválida. La puntuación debe estar entre 0 y 100. Por favor, intenta de nuevo.\")\n",
    "            Sino\n",
    "                # Convertir la puntuación en una calificación\n",
    "                Si puntuacion >= 90 Entonces\n",
    "                    calificacion = 'A'\n",
    "                Sino Si puntuacion >= 80 Entonces\n",
    "                    calificacion = 'B'\n",
    "                Sino Si puntuacion >= 70 Entonces\n",
    "                    calificacion = 'C'\n",
    "                Sino Si puntuacion >= 60 Entonces\n",
    "                    calificacion = 'D'\n",
    "                Sino\n",
    "                    calificacion = 'F'\n",
    "                Fin Si\n",
    "\n",
    "                imprimir(\"Tu calificación es: \" + calificacion)\n",
    "                Romper  # Salir del bucle después de imprimir la calificación\n",
    "            Fin Si\n",
    "        Capturar ExcepciónDeValor\n",
    "            imprimir(\"Entrada inválida. Por favor, introduce un valor numérico entre 0 y 100.\")\n",
    "        Fin Intentar\n",
    "    Fin Mientras\n",
    "Fin Función\n",
    "\n",
    "# Llamar a la función para iniciar el programa\n",
    "convertir_puntuacion_a_calificacion()"
   ]
  },
  {
   "cell_type": "code",
   "execution_count": 2,
   "metadata": {},
   "outputs": [
    {
     "name": "stdout",
     "output_type": "stream",
     "text": [
      "Your grade is: D\n"
     ]
    }
   ],
   "source": [
    "def convert_score_to_grade():\n",
    "    while True:\n",
    "        try:\n",
    "            # Requesting the score from the user\n",
    "            score = float(input(\"Please enter your test score (0-100): \"))\n",
    "\n",
    "            # Validating the score\n",
    "            if score < 0 or score > 100:\n",
    "                print(\"Invalid score. The score must be between 0 and 100. Please try again.\")\n",
    "            else:\n",
    "                # Converting the score to a grade\n",
    "                if score >= 90:\n",
    "                    grade = 'A'\n",
    "                elif score >= 80:\n",
    "                    grade = 'B'\n",
    "                elif score >= 70:\n",
    "                    grade = 'C'\n",
    "                elif score >= 60:\n",
    "                    grade = 'D'\n",
    "                else:\n",
    "                    grade = 'F'\n",
    "\n",
    "                print(f\"Your grade is: {grade}\")\n",
    "                break  # Exiting the loop after printing the grade\n",
    "        except ValueError:\n",
    "            print(\"Invalid input. Please enter a numerical value between 0 and 100.\")\n",
    "\n",
    "# Calling the function to start the program\n",
    "convert_score_to_grade()\n"
   ]
  }
 ],
 "metadata": {
  "kernelspec": {
   "display_name": "Python 3",
   "language": "python",
   "name": "python3"
  },
  "language_info": {
   "codemirror_mode": {
    "name": "ipython",
    "version": 3
   },
   "file_extension": ".py",
   "mimetype": "text/x-python",
   "name": "python",
   "nbconvert_exporter": "python",
   "pygments_lexer": "ipython3",
   "version": "3.11.9"
  }
 },
 "nbformat": 4,
 "nbformat_minor": 2
}
